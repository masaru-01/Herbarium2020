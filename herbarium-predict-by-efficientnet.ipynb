{
 "cells": [
  {
   "cell_type": "markdown",
   "metadata": {},
   "source": [
    "# overview\n",
    "See input data and output format "
   ]
  },
  {
   "cell_type": "code",
   "execution_count": 1,
   "metadata": {
    "_cell_guid": "b1076dfc-b9ad-4769-8c92-a6c4dae69d19",
    "_uuid": "8f2839f25d086af736a60e9eeb907d3b93b6e0e5",
    "execution": {
     "iopub.execute_input": "2021-10-21T05:34:25.507754Z",
     "iopub.status.busy": "2021-10-21T05:34:25.507142Z",
     "iopub.status.idle": "2021-10-21T05:36:02.121313Z",
     "shell.execute_reply": "2021-10-21T05:36:02.120396Z",
     "shell.execute_reply.started": "2021-10-21T05:34:25.507690Z"
    }
   },
   "outputs": [
    {
     "name": "stdout",
     "output_type": "stream",
     "text": [
      "/kaggle/input/efficientnet/.travis.yml\n",
      "/kaggle/input/efficientnet/LICENSE\n",
      "/kaggle/input/efficientnet/.gitignore\n",
      "/kaggle/input/efficientnet/README.md\n",
      "/kaggle/input/efficientnet/MANIFEST.in\n",
      "/kaggle/input/efficientnet/requirements.txt\n",
      "/kaggle/input/efficientnet/__init__.py\n",
      "/kaggle/input/efficientnet/setup.py\n",
      "/kaggle/input/efficientnet/tests/test_model.py\n",
      "/kaggle/input/efficientnet/scripts/load_efficientnet.py\n",
      "/kaggle/input/efficientnet/scripts/convert_from_tf_to_keras.sh\n",
      "/kaggle/input/efficientnet/examples/inference_example.ipynb\n",
      "/kaggle/input/efficientnet/misc/labels_map.txt\n",
      "/kaggle/input/efficientnet/docker/Dockerfile\n",
      "/kaggle/input/efficientnet/efficientnet/preprocessing.py\n",
      "/kaggle/input/efficientnet/efficientnet/weights.py\n",
      "/kaggle/input/efficientnet/efficientnet/model.py\n",
      "/kaggle/input/efficientnet/efficientnet/tfkeras.py\n",
      "/kaggle/input/efficientnet/efficientnet/__init__.py\n",
      "/kaggle/input/efficientnet/efficientnet/keras.py\n",
      "/kaggle/input/efficientnet/efficientnet/__version__.py\n",
      "/kaggle/input/herbarium-2020-fgvc7/sample_submission.csv\n",
      "/kaggle/input/herbarium-2020-fgvc7/nybg2020/test/metadata.json\n",
      "/kaggle/input/herbarium-2020-fgvc7/nybg2020/train/metadata.json\n"
     ]
    }
   ],
   "source": [
    "import numpy as np \n",
    "import pandas as pd \n",
    "import os\n",
    "for dirname, _, filenames in os.walk('/kaggle/input'):\n",
    "    for filename in filenames:\n",
    "        if filename.endswith('.jpg'):\n",
    "            break\n",
    "        print(os.path.join(dirname, filename))"
   ]
  },
  {
   "cell_type": "markdown",
   "metadata": {},
   "source": [
    "Since there's a lot of images included there, we only checked non-image files and got the three above. Next, we will load the sample submission and check."
   ]
  },
  {
   "cell_type": "code",
   "execution_count": 2,
   "metadata": {
    "_cell_guid": "79c7e3d0-c299-4dcb-8224-4455121ee9b0",
    "_uuid": "d629ff2d2480ee46fbb7e2d37f6b5fab8052498a",
    "execution": {
     "iopub.execute_input": "2021-10-21T05:36:02.123693Z",
     "iopub.status.busy": "2021-10-21T05:36:02.123249Z",
     "iopub.status.idle": "2021-10-21T05:36:02.202877Z",
     "shell.execute_reply": "2021-10-21T05:36:02.201805Z",
     "shell.execute_reply.started": "2021-10-21T05:36:02.123640Z"
    }
   },
   "outputs": [
    {
     "data": {
      "text/html": [
       "<div>\n",
       "<style scoped>\n",
       "    .dataframe tbody tr th:only-of-type {\n",
       "        vertical-align: middle;\n",
       "    }\n",
       "\n",
       "    .dataframe tbody tr th {\n",
       "        vertical-align: top;\n",
       "    }\n",
       "\n",
       "    .dataframe thead th {\n",
       "        text-align: right;\n",
       "    }\n",
       "</style>\n",
       "<table border=\"1\" class=\"dataframe\">\n",
       "  <thead>\n",
       "    <tr style=\"text-align: right;\">\n",
       "      <th></th>\n",
       "      <th>Id</th>\n",
       "      <th>Predicted</th>\n",
       "    </tr>\n",
       "  </thead>\n",
       "  <tbody>\n",
       "    <tr>\n",
       "      <th>0</th>\n",
       "      <td>0</td>\n",
       "      <td>0</td>\n",
       "    </tr>\n",
       "    <tr>\n",
       "      <th>1</th>\n",
       "      <td>1</td>\n",
       "      <td>0</td>\n",
       "    </tr>\n",
       "    <tr>\n",
       "      <th>2</th>\n",
       "      <td>2</td>\n",
       "      <td>0</td>\n",
       "    </tr>\n",
       "    <tr>\n",
       "      <th>3</th>\n",
       "      <td>3</td>\n",
       "      <td>0</td>\n",
       "    </tr>\n",
       "    <tr>\n",
       "      <th>4</th>\n",
       "      <td>4</td>\n",
       "      <td>0</td>\n",
       "    </tr>\n",
       "    <tr>\n",
       "      <th>...</th>\n",
       "      <td>...</td>\n",
       "      <td>...</td>\n",
       "    </tr>\n",
       "    <tr>\n",
       "      <th>138287</th>\n",
       "      <td>138287</td>\n",
       "      <td>0</td>\n",
       "    </tr>\n",
       "    <tr>\n",
       "      <th>138288</th>\n",
       "      <td>138288</td>\n",
       "      <td>0</td>\n",
       "    </tr>\n",
       "    <tr>\n",
       "      <th>138289</th>\n",
       "      <td>138289</td>\n",
       "      <td>0</td>\n",
       "    </tr>\n",
       "    <tr>\n",
       "      <th>138290</th>\n",
       "      <td>138290</td>\n",
       "      <td>0</td>\n",
       "    </tr>\n",
       "    <tr>\n",
       "      <th>138291</th>\n",
       "      <td>138291</td>\n",
       "      <td>0</td>\n",
       "    </tr>\n",
       "  </tbody>\n",
       "</table>\n",
       "<p>138292 rows × 2 columns</p>\n",
       "</div>"
      ],
      "text/plain": [
       "            Id  Predicted\n",
       "0            0          0\n",
       "1            1          0\n",
       "2            2          0\n",
       "3            3          0\n",
       "4            4          0\n",
       "...        ...        ...\n",
       "138287  138287          0\n",
       "138288  138288          0\n",
       "138289  138289          0\n",
       "138290  138290          0\n",
       "138291  138291          0\n",
       "\n",
       "[138292 rows x 2 columns]"
      ]
     },
     "metadata": {},
     "output_type": "display_data"
    }
   ],
   "source": [
    "df_sample = pd.read_csv('../input/herbarium-2020-fgvc7/sample_submission.csv')\n",
    "display(df_sample)"
   ]
  },
  {
   "cell_type": "markdown",
   "metadata": {},
   "source": [
    "Load json files"
   ]
  },
  {
   "cell_type": "code",
   "execution_count": 3,
   "metadata": {
    "execution": {
     "iopub.execute_input": "2021-10-21T05:36:02.204970Z",
     "iopub.status.busy": "2021-10-21T05:36:02.204372Z",
     "iopub.status.idle": "2021-10-21T05:36:08.470019Z",
     "shell.execute_reply": "2021-10-21T05:36:08.468989Z",
     "shell.execute_reply.started": "2021-10-21T05:36:02.204915Z"
    }
   },
   "outputs": [],
   "source": [
    "import json\n",
    "with open(\"../input/herbarium-2020-fgvc7/nybg2020/train/metadata.json\", 'r',\n",
    "                 encoding='utf-8', errors='ignore') as f:\n",
    "    train_meta = json.load(f)\n",
    "    \n",
    "with open(\"../input/herbarium-2020-fgvc7/nybg2020/test/metadata.json\", 'r',\n",
    "                 encoding='utf-8', errors='ignore') as f:\n",
    "    test_meta = json.load(f)"
   ]
  },
  {
   "cell_type": "code",
   "execution_count": 4,
   "metadata": {
    "execution": {
     "iopub.execute_input": "2021-10-21T05:36:08.472009Z",
     "iopub.status.busy": "2021-10-21T05:36:08.471644Z",
     "iopub.status.idle": "2021-10-21T05:36:08.477753Z",
     "shell.execute_reply": "2021-10-21T05:36:08.476916Z",
     "shell.execute_reply.started": "2021-10-21T05:36:08.471964Z"
    }
   },
   "outputs": [
    {
     "data": {
      "text/plain": [
       "dict_keys(['annotations', 'categories', 'images', 'info', 'licenses', 'regions'])"
      ]
     },
     "metadata": {},
     "output_type": "display_data"
    }
   ],
   "source": [
    "display(train_meta.keys())"
   ]
  },
  {
   "cell_type": "markdown",
   "metadata": {},
   "source": [
    "Now, we will be unifying the metadata from the `*.json` files. We will first work with the `train` data."
   ]
  },
  {
   "cell_type": "markdown",
   "metadata": {},
   "source": [
    "First, we access the `annotations` list and convert it to a df."
   ]
  },
  {
   "cell_type": "code",
   "execution_count": 5,
   "metadata": {
    "execution": {
     "iopub.execute_input": "2021-10-21T05:36:08.482677Z",
     "iopub.status.busy": "2021-10-21T05:36:08.481995Z",
     "iopub.status.idle": "2021-10-21T05:36:10.632710Z",
     "shell.execute_reply": "2021-10-21T05:36:10.631667Z",
     "shell.execute_reply.started": "2021-10-21T05:36:08.482621Z"
    }
   },
   "outputs": [
    {
     "data": {
      "text/html": [
       "<div>\n",
       "<style scoped>\n",
       "    .dataframe tbody tr th:only-of-type {\n",
       "        vertical-align: middle;\n",
       "    }\n",
       "\n",
       "    .dataframe tbody tr th {\n",
       "        vertical-align: top;\n",
       "    }\n",
       "\n",
       "    .dataframe thead th {\n",
       "        text-align: right;\n",
       "    }\n",
       "</style>\n",
       "<table border=\"1\" class=\"dataframe\">\n",
       "  <thead>\n",
       "    <tr style=\"text-align: right;\">\n",
       "      <th></th>\n",
       "      <th>category_id</th>\n",
       "      <th>id</th>\n",
       "      <th>image_id</th>\n",
       "      <th>region_id</th>\n",
       "    </tr>\n",
       "  </thead>\n",
       "  <tbody>\n",
       "    <tr>\n",
       "      <th>0</th>\n",
       "      <td>15672</td>\n",
       "      <td>354106</td>\n",
       "      <td>354106</td>\n",
       "      <td>1</td>\n",
       "    </tr>\n",
       "    <tr>\n",
       "      <th>1</th>\n",
       "      <td>11524</td>\n",
       "      <td>818566</td>\n",
       "      <td>818566</td>\n",
       "      <td>1</td>\n",
       "    </tr>\n",
       "    <tr>\n",
       "      <th>2</th>\n",
       "      <td>11524</td>\n",
       "      <td>750704</td>\n",
       "      <td>750704</td>\n",
       "      <td>1</td>\n",
       "    </tr>\n",
       "    <tr>\n",
       "      <th>3</th>\n",
       "      <td>11467</td>\n",
       "      <td>722381</td>\n",
       "      <td>722381</td>\n",
       "      <td>1</td>\n",
       "    </tr>\n",
       "    <tr>\n",
       "      <th>4</th>\n",
       "      <td>15660</td>\n",
       "      <td>382783</td>\n",
       "      <td>382783</td>\n",
       "      <td>1</td>\n",
       "    </tr>\n",
       "    <tr>\n",
       "      <th>...</th>\n",
       "      <td>...</td>\n",
       "      <td>...</td>\n",
       "      <td>...</td>\n",
       "      <td>...</td>\n",
       "    </tr>\n",
       "    <tr>\n",
       "      <th>1030742</th>\n",
       "      <td>24148</td>\n",
       "      <td>856534</td>\n",
       "      <td>856534</td>\n",
       "      <td>3</td>\n",
       "    </tr>\n",
       "    <tr>\n",
       "      <th>1030743</th>\n",
       "      <td>5142</td>\n",
       "      <td>541440</td>\n",
       "      <td>541440</td>\n",
       "      <td>1</td>\n",
       "    </tr>\n",
       "    <tr>\n",
       "      <th>1030744</th>\n",
       "      <td>27240</td>\n",
       "      <td>927988</td>\n",
       "      <td>927988</td>\n",
       "      <td>1</td>\n",
       "    </tr>\n",
       "    <tr>\n",
       "      <th>1030745</th>\n",
       "      <td>269</td>\n",
       "      <td>242745</td>\n",
       "      <td>242745</td>\n",
       "      <td>2</td>\n",
       "    </tr>\n",
       "    <tr>\n",
       "      <th>1030746</th>\n",
       "      <td>29295</td>\n",
       "      <td>356426</td>\n",
       "      <td>356426</td>\n",
       "      <td>2</td>\n",
       "    </tr>\n",
       "  </tbody>\n",
       "</table>\n",
       "<p>1030747 rows × 4 columns</p>\n",
       "</div>"
      ],
      "text/plain": [
       "         category_id      id  image_id  region_id\n",
       "0              15672  354106    354106          1\n",
       "1              11524  818566    818566          1\n",
       "2              11524  750704    750704          1\n",
       "3              11467  722381    722381          1\n",
       "4              15660  382783    382783          1\n",
       "...              ...     ...       ...        ...\n",
       "1030742        24148  856534    856534          3\n",
       "1030743         5142  541440    541440          1\n",
       "1030744        27240  927988    927988          1\n",
       "1030745          269  242745    242745          2\n",
       "1030746        29295  356426    356426          2\n",
       "\n",
       "[1030747 rows x 4 columns]"
      ]
     },
     "metadata": {},
     "output_type": "display_data"
    }
   ],
   "source": [
    "train_id = pd.DataFrame(train_meta['annotations'])\n",
    "display(train_id)"
   ]
  },
  {
   "cell_type": "markdown",
   "metadata": {},
   "source": [
    "Next is for `plant categories`:"
   ]
  },
  {
   "cell_type": "code",
   "execution_count": 6,
   "metadata": {
    "execution": {
     "iopub.execute_input": "2021-10-21T05:36:10.635976Z",
     "iopub.status.busy": "2021-10-21T05:36:10.635606Z",
     "iopub.status.idle": "2021-10-21T05:36:10.696645Z",
     "shell.execute_reply": "2021-10-21T05:36:10.695666Z",
     "shell.execute_reply.started": "2021-10-21T05:36:10.635929Z"
    }
   },
   "outputs": [
    {
     "data": {
      "text/html": [
       "<div>\n",
       "<style scoped>\n",
       "    .dataframe tbody tr th:only-of-type {\n",
       "        vertical-align: middle;\n",
       "    }\n",
       "\n",
       "    .dataframe tbody tr th {\n",
       "        vertical-align: top;\n",
       "    }\n",
       "\n",
       "    .dataframe thead th {\n",
       "        text-align: right;\n",
       "    }\n",
       "</style>\n",
       "<table border=\"1\" class=\"dataframe\">\n",
       "  <thead>\n",
       "    <tr style=\"text-align: right;\">\n",
       "      <th></th>\n",
       "      <th>family</th>\n",
       "      <th>genus</th>\n",
       "      <th>category_id</th>\n",
       "      <th>category_name</th>\n",
       "    </tr>\n",
       "  </thead>\n",
       "  <tbody>\n",
       "    <tr>\n",
       "      <th>0</th>\n",
       "      <td>Orchidaceae</td>\n",
       "      <td>Aa</td>\n",
       "      <td>0</td>\n",
       "      <td>Aa mathewsii (Rchb.f.) Schltr.</td>\n",
       "    </tr>\n",
       "    <tr>\n",
       "      <th>1</th>\n",
       "      <td>Orchidaceae</td>\n",
       "      <td>Aa</td>\n",
       "      <td>1</td>\n",
       "      <td>Aa paleacea (Kunth) Rchb.f.</td>\n",
       "    </tr>\n",
       "    <tr>\n",
       "      <th>2</th>\n",
       "      <td>Fabaceae</td>\n",
       "      <td>Abarema</td>\n",
       "      <td>2</td>\n",
       "      <td>Abarema abbottii (Rose &amp; Leonard) Barneby &amp; J....</td>\n",
       "    </tr>\n",
       "    <tr>\n",
       "      <th>3</th>\n",
       "      <td>Fabaceae</td>\n",
       "      <td>Abarema</td>\n",
       "      <td>3</td>\n",
       "      <td>Abarema acreana (J.F.Macbr.) L.Rico</td>\n",
       "    </tr>\n",
       "    <tr>\n",
       "      <th>4</th>\n",
       "      <td>Fabaceae</td>\n",
       "      <td>Abarema</td>\n",
       "      <td>4</td>\n",
       "      <td>Abarema adenophora (Ducke) Barneby &amp; J.W.Grimes</td>\n",
       "    </tr>\n",
       "    <tr>\n",
       "      <th>...</th>\n",
       "      <td>...</td>\n",
       "      <td>...</td>\n",
       "      <td>...</td>\n",
       "      <td>...</td>\n",
       "    </tr>\n",
       "    <tr>\n",
       "      <th>32089</th>\n",
       "      <td>Orchidaceae</td>\n",
       "      <td>Zygopetalum</td>\n",
       "      <td>32089</td>\n",
       "      <td>Zygopetalum maxillare Lodd.</td>\n",
       "    </tr>\n",
       "    <tr>\n",
       "      <th>32090</th>\n",
       "      <td>Orchidaceae</td>\n",
       "      <td>Zygopetalum</td>\n",
       "      <td>32090</td>\n",
       "      <td>Zygopetalum sellowii Rchb.f.</td>\n",
       "    </tr>\n",
       "    <tr>\n",
       "      <th>32091</th>\n",
       "      <td>Polypodiaceae</td>\n",
       "      <td>Zygophlebia</td>\n",
       "      <td>32091</td>\n",
       "      <td>Zygophlebia mathewsii (Kunze ex Mett.) L.E.Bishop</td>\n",
       "    </tr>\n",
       "    <tr>\n",
       "      <th>32092</th>\n",
       "      <td>Polypodiaceae</td>\n",
       "      <td>Zygophlebia</td>\n",
       "      <td>32092</td>\n",
       "      <td>Zygophlebia sectifrons (Kunze ex Mett.) L.E.Bi...</td>\n",
       "    </tr>\n",
       "    <tr>\n",
       "      <th>32093</th>\n",
       "      <td>Gentianaceae</td>\n",
       "      <td>Zygostigma</td>\n",
       "      <td>32093</td>\n",
       "      <td>Zygostigma australe (Cham. &amp; Schltdl.) Griseb.</td>\n",
       "    </tr>\n",
       "  </tbody>\n",
       "</table>\n",
       "<p>32094 rows × 4 columns</p>\n",
       "</div>"
      ],
      "text/plain": [
       "              family        genus  category_id  \\\n",
       "0        Orchidaceae           Aa            0   \n",
       "1        Orchidaceae           Aa            1   \n",
       "2           Fabaceae      Abarema            2   \n",
       "3           Fabaceae      Abarema            3   \n",
       "4           Fabaceae      Abarema            4   \n",
       "...              ...          ...          ...   \n",
       "32089    Orchidaceae  Zygopetalum        32089   \n",
       "32090    Orchidaceae  Zygopetalum        32090   \n",
       "32091  Polypodiaceae  Zygophlebia        32091   \n",
       "32092  Polypodiaceae  Zygophlebia        32092   \n",
       "32093   Gentianaceae   Zygostigma        32093   \n",
       "\n",
       "                                           category_name  \n",
       "0                         Aa mathewsii (Rchb.f.) Schltr.  \n",
       "1                            Aa paleacea (Kunth) Rchb.f.  \n",
       "2      Abarema abbottii (Rose & Leonard) Barneby & J....  \n",
       "3                    Abarema acreana (J.F.Macbr.) L.Rico  \n",
       "4        Abarema adenophora (Ducke) Barneby & J.W.Grimes  \n",
       "...                                                  ...  \n",
       "32089                        Zygopetalum maxillare Lodd.  \n",
       "32090                       Zygopetalum sellowii Rchb.f.  \n",
       "32091  Zygophlebia mathewsii (Kunze ex Mett.) L.E.Bishop  \n",
       "32092  Zygophlebia sectifrons (Kunze ex Mett.) L.E.Bi...  \n",
       "32093     Zygostigma australe (Cham. & Schltdl.) Griseb.  \n",
       "\n",
       "[32094 rows x 4 columns]"
      ]
     },
     "metadata": {},
     "output_type": "display_data"
    }
   ],
   "source": [
    "train_cat = pd.DataFrame(train_meta['categories'])\n",
    "train_cat.columns = ['family', 'genus', 'category_id', 'category_name']\n",
    "display(train_cat)"
   ]
  },
  {
   "cell_type": "markdown",
   "metadata": {},
   "source": [
    "Followed by the `image properties`:"
   ]
  },
  {
   "cell_type": "code",
   "execution_count": 7,
   "metadata": {
    "execution": {
     "iopub.execute_input": "2021-10-21T05:36:10.699056Z",
     "iopub.status.busy": "2021-10-21T05:36:10.698515Z",
     "iopub.status.idle": "2021-10-21T05:36:13.061905Z",
     "shell.execute_reply": "2021-10-21T05:36:13.060954Z",
     "shell.execute_reply.started": "2021-10-21T05:36:10.698866Z"
    }
   },
   "outputs": [
    {
     "data": {
      "text/html": [
       "<div>\n",
       "<style scoped>\n",
       "    .dataframe tbody tr th:only-of-type {\n",
       "        vertical-align: middle;\n",
       "    }\n",
       "\n",
       "    .dataframe tbody tr th {\n",
       "        vertical-align: top;\n",
       "    }\n",
       "\n",
       "    .dataframe thead th {\n",
       "        text-align: right;\n",
       "    }\n",
       "</style>\n",
       "<table border=\"1\" class=\"dataframe\">\n",
       "  <thead>\n",
       "    <tr style=\"text-align: right;\">\n",
       "      <th></th>\n",
       "      <th>file_name</th>\n",
       "      <th>height</th>\n",
       "      <th>image_id</th>\n",
       "      <th>license</th>\n",
       "      <th>width</th>\n",
       "    </tr>\n",
       "  </thead>\n",
       "  <tbody>\n",
       "    <tr>\n",
       "      <th>0</th>\n",
       "      <td>images/156/72/354106.jpg</td>\n",
       "      <td>1000</td>\n",
       "      <td>354106</td>\n",
       "      <td>1</td>\n",
       "      <td>661</td>\n",
       "    </tr>\n",
       "    <tr>\n",
       "      <th>1</th>\n",
       "      <td>images/115/24/818566.jpg</td>\n",
       "      <td>1000</td>\n",
       "      <td>818566</td>\n",
       "      <td>1</td>\n",
       "      <td>661</td>\n",
       "    </tr>\n",
       "    <tr>\n",
       "      <th>2</th>\n",
       "      <td>images/115/24/750704.jpg</td>\n",
       "      <td>1000</td>\n",
       "      <td>750704</td>\n",
       "      <td>1</td>\n",
       "      <td>661</td>\n",
       "    </tr>\n",
       "    <tr>\n",
       "      <th>3</th>\n",
       "      <td>images/114/67/722381.jpg</td>\n",
       "      <td>1000</td>\n",
       "      <td>722381</td>\n",
       "      <td>1</td>\n",
       "      <td>661</td>\n",
       "    </tr>\n",
       "    <tr>\n",
       "      <th>4</th>\n",
       "      <td>images/156/60/382783.jpg</td>\n",
       "      <td>1000</td>\n",
       "      <td>382783</td>\n",
       "      <td>1</td>\n",
       "      <td>661</td>\n",
       "    </tr>\n",
       "    <tr>\n",
       "      <th>...</th>\n",
       "      <td>...</td>\n",
       "      <td>...</td>\n",
       "      <td>...</td>\n",
       "      <td>...</td>\n",
       "      <td>...</td>\n",
       "    </tr>\n",
       "    <tr>\n",
       "      <th>1030742</th>\n",
       "      <td>images/241/48/856534.jpg</td>\n",
       "      <td>1000</td>\n",
       "      <td>856534</td>\n",
       "      <td>1</td>\n",
       "      <td>682</td>\n",
       "    </tr>\n",
       "    <tr>\n",
       "      <th>1030743</th>\n",
       "      <td>images/051/42/541440.jpg</td>\n",
       "      <td>1000</td>\n",
       "      <td>541440</td>\n",
       "      <td>1</td>\n",
       "      <td>661</td>\n",
       "    </tr>\n",
       "    <tr>\n",
       "      <th>1030744</th>\n",
       "      <td>images/272/40/927988.jpg</td>\n",
       "      <td>1000</td>\n",
       "      <td>927988</td>\n",
       "      <td>1</td>\n",
       "      <td>669</td>\n",
       "    </tr>\n",
       "    <tr>\n",
       "      <th>1030745</th>\n",
       "      <td>images/002/69/242745.jpg</td>\n",
       "      <td>1000</td>\n",
       "      <td>242745</td>\n",
       "      <td>1</td>\n",
       "      <td>682</td>\n",
       "    </tr>\n",
       "    <tr>\n",
       "      <th>1030746</th>\n",
       "      <td>images/292/95/356426.jpg</td>\n",
       "      <td>1000</td>\n",
       "      <td>356426</td>\n",
       "      <td>1</td>\n",
       "      <td>682</td>\n",
       "    </tr>\n",
       "  </tbody>\n",
       "</table>\n",
       "<p>1030747 rows × 5 columns</p>\n",
       "</div>"
      ],
      "text/plain": [
       "                        file_name  height  image_id  license  width\n",
       "0        images/156/72/354106.jpg    1000    354106        1    661\n",
       "1        images/115/24/818566.jpg    1000    818566        1    661\n",
       "2        images/115/24/750704.jpg    1000    750704        1    661\n",
       "3        images/114/67/722381.jpg    1000    722381        1    661\n",
       "4        images/156/60/382783.jpg    1000    382783        1    661\n",
       "...                           ...     ...       ...      ...    ...\n",
       "1030742  images/241/48/856534.jpg    1000    856534        1    682\n",
       "1030743  images/051/42/541440.jpg    1000    541440        1    661\n",
       "1030744  images/272/40/927988.jpg    1000    927988        1    669\n",
       "1030745  images/002/69/242745.jpg    1000    242745        1    682\n",
       "1030746  images/292/95/356426.jpg    1000    356426        1    682\n",
       "\n",
       "[1030747 rows x 5 columns]"
      ]
     },
     "metadata": {},
     "output_type": "display_data"
    }
   ],
   "source": [
    "train_img = pd.DataFrame(train_meta['images'])\n",
    "train_img.columns = ['file_name', 'height', 'image_id', 'license', 'width']\n",
    "display(train_img)"
   ]
  },
  {
   "cell_type": "markdown",
   "metadata": {},
   "source": [
    "And lastly, the `region`:"
   ]
  },
  {
   "cell_type": "code",
   "execution_count": 8,
   "metadata": {
    "execution": {
     "iopub.execute_input": "2021-10-21T05:36:13.068882Z",
     "iopub.status.busy": "2021-10-21T05:36:13.066360Z",
     "iopub.status.idle": "2021-10-21T05:36:13.084175Z",
     "shell.execute_reply": "2021-10-21T05:36:13.083259Z",
     "shell.execute_reply.started": "2021-10-21T05:36:13.068824Z"
    }
   },
   "outputs": [
    {
     "data": {
      "text/html": [
       "<div>\n",
       "<style scoped>\n",
       "    .dataframe tbody tr th:only-of-type {\n",
       "        vertical-align: middle;\n",
       "    }\n",
       "\n",
       "    .dataframe tbody tr th {\n",
       "        vertical-align: top;\n",
       "    }\n",
       "\n",
       "    .dataframe thead th {\n",
       "        text-align: right;\n",
       "    }\n",
       "</style>\n",
       "<table border=\"1\" class=\"dataframe\">\n",
       "  <thead>\n",
       "    <tr style=\"text-align: right;\">\n",
       "      <th></th>\n",
       "      <th>region_id</th>\n",
       "      <th>region_name</th>\n",
       "    </tr>\n",
       "  </thead>\n",
       "  <tbody>\n",
       "    <tr>\n",
       "      <th>0</th>\n",
       "      <td>0</td>\n",
       "      <td>Mexico &amp; Central America</td>\n",
       "    </tr>\n",
       "    <tr>\n",
       "      <th>1</th>\n",
       "      <td>1</td>\n",
       "      <td>South America</td>\n",
       "    </tr>\n",
       "    <tr>\n",
       "      <th>2</th>\n",
       "      <td>2</td>\n",
       "      <td>US &amp; Canada</td>\n",
       "    </tr>\n",
       "    <tr>\n",
       "      <th>3</th>\n",
       "      <td>3</td>\n",
       "      <td>West Indies</td>\n",
       "    </tr>\n",
       "  </tbody>\n",
       "</table>\n",
       "</div>"
      ],
      "text/plain": [
       "   region_id               region_name\n",
       "0          0  Mexico & Central America\n",
       "1          1             South America\n",
       "2          2               US & Canada\n",
       "3          3               West Indies"
      ]
     },
     "metadata": {},
     "output_type": "display_data"
    }
   ],
   "source": [
    "train_reg = pd.DataFrame(train_meta['regions'])\n",
    "train_reg.columns = ['region_id', 'region_name']\n",
    "display(train_reg)"
   ]
  },
  {
   "cell_type": "markdown",
   "metadata": {},
   "source": [
    "Then, we will merge all the DataFrames and see what we got:"
   ]
  },
  {
   "cell_type": "code",
   "execution_count": 9,
   "metadata": {
    "execution": {
     "iopub.execute_input": "2021-10-21T05:36:13.091063Z",
     "iopub.status.busy": "2021-10-21T05:36:13.088562Z",
     "iopub.status.idle": "2021-10-21T05:36:14.933443Z",
     "shell.execute_reply": "2021-10-21T05:36:14.932087Z",
     "shell.execute_reply.started": "2021-10-21T05:36:13.091011Z"
    }
   },
   "outputs": [],
   "source": [
    "train_df = train_id.merge(train_cat, on='category_id', how='outer')\n",
    "train_df = train_df.merge(train_img, on='image_id', how='outer')\n",
    "train_df = train_df.merge(train_reg, on='region_id', how='outer')"
   ]
  },
  {
   "cell_type": "code",
   "execution_count": 10,
   "metadata": {
    "execution": {
     "iopub.execute_input": "2021-10-21T05:36:14.941752Z",
     "iopub.status.busy": "2021-10-21T05:36:14.939598Z",
     "iopub.status.idle": "2021-10-21T05:36:15.749112Z",
     "shell.execute_reply": "2021-10-21T05:36:15.748036Z",
     "shell.execute_reply.started": "2021-10-21T05:36:14.941665Z"
    }
   },
   "outputs": [
    {
     "name": "stdout",
     "output_type": "stream",
     "text": [
      "<class 'pandas.core.frame.DataFrame'>\n",
      "Int64Index: 1030748 entries, 0 to 1030747\n",
      "Data columns (total 12 columns):\n",
      "category_id      1030748 non-null int64\n",
      "id               1030747 non-null float64\n",
      "image_id         1030747 non-null float64\n",
      "region_id        1030747 non-null float64\n",
      "family           1030748 non-null object\n",
      "genus            1030748 non-null object\n",
      "category_name    1030748 non-null object\n",
      "file_name        1030747 non-null object\n",
      "height           1030747 non-null float64\n",
      "license          1030747 non-null float64\n",
      "width            1030747 non-null float64\n",
      "region_name      1030747 non-null object\n",
      "dtypes: float64(6), int64(1), object(5)\n",
      "memory usage: 102.2+ MB\n",
      "None\n"
     ]
    },
    {
     "data": {
      "text/html": [
       "<div>\n",
       "<style scoped>\n",
       "    .dataframe tbody tr th:only-of-type {\n",
       "        vertical-align: middle;\n",
       "    }\n",
       "\n",
       "    .dataframe tbody tr th {\n",
       "        vertical-align: top;\n",
       "    }\n",
       "\n",
       "    .dataframe thead th {\n",
       "        text-align: right;\n",
       "    }\n",
       "</style>\n",
       "<table border=\"1\" class=\"dataframe\">\n",
       "  <thead>\n",
       "    <tr style=\"text-align: right;\">\n",
       "      <th></th>\n",
       "      <th>category_id</th>\n",
       "      <th>id</th>\n",
       "      <th>image_id</th>\n",
       "      <th>region_id</th>\n",
       "      <th>family</th>\n",
       "      <th>genus</th>\n",
       "      <th>category_name</th>\n",
       "      <th>file_name</th>\n",
       "      <th>height</th>\n",
       "      <th>license</th>\n",
       "      <th>width</th>\n",
       "      <th>region_name</th>\n",
       "    </tr>\n",
       "  </thead>\n",
       "  <tbody>\n",
       "    <tr>\n",
       "      <th>0</th>\n",
       "      <td>15672</td>\n",
       "      <td>354106.0</td>\n",
       "      <td>354106.0</td>\n",
       "      <td>1.0</td>\n",
       "      <td>Lecythidaceae</td>\n",
       "      <td>Lecythis</td>\n",
       "      <td>Lecythis retusa Spruce ex O.Berg</td>\n",
       "      <td>images/156/72/354106.jpg</td>\n",
       "      <td>1000.0</td>\n",
       "      <td>1.0</td>\n",
       "      <td>661.0</td>\n",
       "      <td>South America</td>\n",
       "    </tr>\n",
       "    <tr>\n",
       "      <th>1</th>\n",
       "      <td>15672</td>\n",
       "      <td>545181.0</td>\n",
       "      <td>545181.0</td>\n",
       "      <td>1.0</td>\n",
       "      <td>Lecythidaceae</td>\n",
       "      <td>Lecythis</td>\n",
       "      <td>Lecythis retusa Spruce ex O.Berg</td>\n",
       "      <td>images/156/72/545181.jpg</td>\n",
       "      <td>1000.0</td>\n",
       "      <td>1.0</td>\n",
       "      <td>661.0</td>\n",
       "      <td>South America</td>\n",
       "    </tr>\n",
       "    <tr>\n",
       "      <th>2</th>\n",
       "      <td>15672</td>\n",
       "      <td>449419.0</td>\n",
       "      <td>449419.0</td>\n",
       "      <td>1.0</td>\n",
       "      <td>Lecythidaceae</td>\n",
       "      <td>Lecythis</td>\n",
       "      <td>Lecythis retusa Spruce ex O.Berg</td>\n",
       "      <td>images/156/72/449419.jpg</td>\n",
       "      <td>1000.0</td>\n",
       "      <td>1.0</td>\n",
       "      <td>662.0</td>\n",
       "      <td>South America</td>\n",
       "    </tr>\n",
       "    <tr>\n",
       "      <th>3</th>\n",
       "      <td>15672</td>\n",
       "      <td>200223.0</td>\n",
       "      <td>200223.0</td>\n",
       "      <td>1.0</td>\n",
       "      <td>Lecythidaceae</td>\n",
       "      <td>Lecythis</td>\n",
       "      <td>Lecythis retusa Spruce ex O.Berg</td>\n",
       "      <td>images/156/72/200223.jpg</td>\n",
       "      <td>1000.0</td>\n",
       "      <td>1.0</td>\n",
       "      <td>661.0</td>\n",
       "      <td>South America</td>\n",
       "    </tr>\n",
       "    <tr>\n",
       "      <th>4</th>\n",
       "      <td>15672</td>\n",
       "      <td>5327.0</td>\n",
       "      <td>5327.0</td>\n",
       "      <td>1.0</td>\n",
       "      <td>Lecythidaceae</td>\n",
       "      <td>Lecythis</td>\n",
       "      <td>Lecythis retusa Spruce ex O.Berg</td>\n",
       "      <td>images/156/72/5327.jpg</td>\n",
       "      <td>1000.0</td>\n",
       "      <td>1.0</td>\n",
       "      <td>661.0</td>\n",
       "      <td>South America</td>\n",
       "    </tr>\n",
       "    <tr>\n",
       "      <th>...</th>\n",
       "      <td>...</td>\n",
       "      <td>...</td>\n",
       "      <td>...</td>\n",
       "      <td>...</td>\n",
       "      <td>...</td>\n",
       "      <td>...</td>\n",
       "      <td>...</td>\n",
       "      <td>...</td>\n",
       "      <td>...</td>\n",
       "      <td>...</td>\n",
       "      <td>...</td>\n",
       "      <td>...</td>\n",
       "    </tr>\n",
       "    <tr>\n",
       "      <th>1030743</th>\n",
       "      <td>3467</td>\n",
       "      <td>12768.0</td>\n",
       "      <td>12768.0</td>\n",
       "      <td>2.0</td>\n",
       "      <td>Bromeliaceae</td>\n",
       "      <td>Billbergia</td>\n",
       "      <td>Billbergia macrocalyx Hook.</td>\n",
       "      <td>images/034/67/12768.jpg</td>\n",
       "      <td>1000.0</td>\n",
       "      <td>1.0</td>\n",
       "      <td>678.0</td>\n",
       "      <td>US &amp; Canada</td>\n",
       "    </tr>\n",
       "    <tr>\n",
       "      <th>1030744</th>\n",
       "      <td>3467</td>\n",
       "      <td>945011.0</td>\n",
       "      <td>945011.0</td>\n",
       "      <td>2.0</td>\n",
       "      <td>Bromeliaceae</td>\n",
       "      <td>Billbergia</td>\n",
       "      <td>Billbergia macrocalyx Hook.</td>\n",
       "      <td>images/034/67/945011.jpg</td>\n",
       "      <td>1000.0</td>\n",
       "      <td>1.0</td>\n",
       "      <td>678.0</td>\n",
       "      <td>US &amp; Canada</td>\n",
       "    </tr>\n",
       "    <tr>\n",
       "      <th>1030745</th>\n",
       "      <td>20684</td>\n",
       "      <td>916700.0</td>\n",
       "      <td>916700.0</td>\n",
       "      <td>2.0</td>\n",
       "      <td>Paeoniaceae</td>\n",
       "      <td>Paeonia</td>\n",
       "      <td>Paeonia brownii Douglas ex Hook.</td>\n",
       "      <td>images/206/84/916700.jpg</td>\n",
       "      <td>1000.0</td>\n",
       "      <td>1.0</td>\n",
       "      <td>681.0</td>\n",
       "      <td>US &amp; Canada</td>\n",
       "    </tr>\n",
       "    <tr>\n",
       "      <th>1030746</th>\n",
       "      <td>20684</td>\n",
       "      <td>577648.0</td>\n",
       "      <td>577648.0</td>\n",
       "      <td>2.0</td>\n",
       "      <td>Paeoniaceae</td>\n",
       "      <td>Paeonia</td>\n",
       "      <td>Paeonia brownii Douglas ex Hook.</td>\n",
       "      <td>images/206/84/577648.jpg</td>\n",
       "      <td>1000.0</td>\n",
       "      <td>1.0</td>\n",
       "      <td>676.0</td>\n",
       "      <td>US &amp; Canada</td>\n",
       "    </tr>\n",
       "    <tr>\n",
       "      <th>1030747</th>\n",
       "      <td>23079</td>\n",
       "      <td>NaN</td>\n",
       "      <td>NaN</td>\n",
       "      <td>NaN</td>\n",
       "      <td>Piperaceae</td>\n",
       "      <td>Piper</td>\n",
       "      <td>Piper dichotomum Ruiz &amp; Pav.</td>\n",
       "      <td>NaN</td>\n",
       "      <td>NaN</td>\n",
       "      <td>NaN</td>\n",
       "      <td>NaN</td>\n",
       "      <td>NaN</td>\n",
       "    </tr>\n",
       "  </tbody>\n",
       "</table>\n",
       "<p>1030748 rows × 12 columns</p>\n",
       "</div>"
      ],
      "text/plain": [
       "         category_id        id  image_id  region_id         family  \\\n",
       "0              15672  354106.0  354106.0        1.0  Lecythidaceae   \n",
       "1              15672  545181.0  545181.0        1.0  Lecythidaceae   \n",
       "2              15672  449419.0  449419.0        1.0  Lecythidaceae   \n",
       "3              15672  200223.0  200223.0        1.0  Lecythidaceae   \n",
       "4              15672    5327.0    5327.0        1.0  Lecythidaceae   \n",
       "...              ...       ...       ...        ...            ...   \n",
       "1030743         3467   12768.0   12768.0        2.0   Bromeliaceae   \n",
       "1030744         3467  945011.0  945011.0        2.0   Bromeliaceae   \n",
       "1030745        20684  916700.0  916700.0        2.0    Paeoniaceae   \n",
       "1030746        20684  577648.0  577648.0        2.0    Paeoniaceae   \n",
       "1030747        23079       NaN       NaN        NaN     Piperaceae   \n",
       "\n",
       "              genus                     category_name  \\\n",
       "0          Lecythis  Lecythis retusa Spruce ex O.Berg   \n",
       "1          Lecythis  Lecythis retusa Spruce ex O.Berg   \n",
       "2          Lecythis  Lecythis retusa Spruce ex O.Berg   \n",
       "3          Lecythis  Lecythis retusa Spruce ex O.Berg   \n",
       "4          Lecythis  Lecythis retusa Spruce ex O.Berg   \n",
       "...             ...                               ...   \n",
       "1030743  Billbergia       Billbergia macrocalyx Hook.   \n",
       "1030744  Billbergia       Billbergia macrocalyx Hook.   \n",
       "1030745     Paeonia  Paeonia brownii Douglas ex Hook.   \n",
       "1030746     Paeonia  Paeonia brownii Douglas ex Hook.   \n",
       "1030747       Piper      Piper dichotomum Ruiz & Pav.   \n",
       "\n",
       "                        file_name  height  license  width    region_name  \n",
       "0        images/156/72/354106.jpg  1000.0      1.0  661.0  South America  \n",
       "1        images/156/72/545181.jpg  1000.0      1.0  661.0  South America  \n",
       "2        images/156/72/449419.jpg  1000.0      1.0  662.0  South America  \n",
       "3        images/156/72/200223.jpg  1000.0      1.0  661.0  South America  \n",
       "4          images/156/72/5327.jpg  1000.0      1.0  661.0  South America  \n",
       "...                           ...     ...      ...    ...            ...  \n",
       "1030743   images/034/67/12768.jpg  1000.0      1.0  678.0    US & Canada  \n",
       "1030744  images/034/67/945011.jpg  1000.0      1.0  678.0    US & Canada  \n",
       "1030745  images/206/84/916700.jpg  1000.0      1.0  681.0    US & Canada  \n",
       "1030746  images/206/84/577648.jpg  1000.0      1.0  676.0    US & Canada  \n",
       "1030747                       NaN     NaN      NaN    NaN            NaN  \n",
       "\n",
       "[1030748 rows x 12 columns]"
      ]
     },
     "metadata": {},
     "output_type": "display_data"
    }
   ],
   "source": [
    "print(train_df.info())\n",
    "display(train_df)"
   ]
  },
  {
   "cell_type": "markdown",
   "metadata": {},
   "source": [
    "Looking closer, there's a line with `NaN` values there. We need to remove rows with `NaN`s so we proceed to the next line:"
   ]
  },
  {
   "cell_type": "code",
   "execution_count": 11,
   "metadata": {
    "execution": {
     "iopub.execute_input": "2021-10-21T05:36:15.751186Z",
     "iopub.status.busy": "2021-10-21T05:36:15.750676Z",
     "iopub.status.idle": "2021-10-21T05:36:46.778951Z",
     "shell.execute_reply": "2021-10-21T05:36:46.777988Z",
     "shell.execute_reply.started": "2021-10-21T05:36:15.751009Z"
    }
   },
   "outputs": [],
   "source": [
    "bools_img_path = train_df['file_name'].isna()\n",
    "keep = [x for x in range(train_df.shape[0]) if not bools_img_path[x]]\n",
    "train_df = train_df.iloc[keep]"
   ]
  },
  {
   "cell_type": "markdown",
   "metadata": {},
   "source": [
    "After selecting the `non-NaN` items, we now reiterate on their file types. We need to save on memory, as we reached `102+ MB` for this DataFrame Only."
   ]
  },
  {
   "cell_type": "code",
   "execution_count": 12,
   "metadata": {
    "execution": {
     "iopub.execute_input": "2021-10-21T05:36:46.780628Z",
     "iopub.status.busy": "2021-10-21T05:36:46.780229Z",
     "iopub.status.idle": "2021-10-21T05:36:47.529095Z",
     "shell.execute_reply": "2021-10-21T05:36:47.528221Z",
     "shell.execute_reply.started": "2021-10-21T05:36:46.780580Z"
    }
   },
   "outputs": [
    {
     "name": "stdout",
     "output_type": "stream",
     "text": [
      "<class 'pandas.core.frame.DataFrame'>\n",
      "Int64Index: 1030747 entries, 0 to 1030746\n",
      "Data columns (total 12 columns):\n",
      "category_id      1030747 non-null int32\n",
      "id               1030747 non-null int32\n",
      "image_id         1030747 non-null int32\n",
      "region_id        1030747 non-null int32\n",
      "family           1030747 non-null object\n",
      "genus            1030747 non-null object\n",
      "category_name    1030747 non-null object\n",
      "file_name        1030747 non-null object\n",
      "height           1030747 non-null int32\n",
      "license          1030747 non-null int32\n",
      "width            1030747 non-null int32\n",
      "region_name      1030747 non-null object\n",
      "dtypes: int32(7), object(5)\n",
      "memory usage: 74.7+ MB\n",
      "None\n"
     ]
    },
    {
     "data": {
      "text/html": [
       "<div>\n",
       "<style scoped>\n",
       "    .dataframe tbody tr th:only-of-type {\n",
       "        vertical-align: middle;\n",
       "    }\n",
       "\n",
       "    .dataframe tbody tr th {\n",
       "        vertical-align: top;\n",
       "    }\n",
       "\n",
       "    .dataframe thead th {\n",
       "        text-align: right;\n",
       "    }\n",
       "</style>\n",
       "<table border=\"1\" class=\"dataframe\">\n",
       "  <thead>\n",
       "    <tr style=\"text-align: right;\">\n",
       "      <th></th>\n",
       "      <th>category_id</th>\n",
       "      <th>id</th>\n",
       "      <th>image_id</th>\n",
       "      <th>region_id</th>\n",
       "      <th>family</th>\n",
       "      <th>genus</th>\n",
       "      <th>category_name</th>\n",
       "      <th>file_name</th>\n",
       "      <th>height</th>\n",
       "      <th>license</th>\n",
       "      <th>width</th>\n",
       "      <th>region_name</th>\n",
       "    </tr>\n",
       "  </thead>\n",
       "  <tbody>\n",
       "    <tr>\n",
       "      <th>0</th>\n",
       "      <td>15672</td>\n",
       "      <td>354106</td>\n",
       "      <td>354106</td>\n",
       "      <td>1</td>\n",
       "      <td>Lecythidaceae</td>\n",
       "      <td>Lecythis</td>\n",
       "      <td>Lecythis retusa Spruce ex O.Berg</td>\n",
       "      <td>images/156/72/354106.jpg</td>\n",
       "      <td>1000</td>\n",
       "      <td>1</td>\n",
       "      <td>661</td>\n",
       "      <td>South America</td>\n",
       "    </tr>\n",
       "    <tr>\n",
       "      <th>1</th>\n",
       "      <td>15672</td>\n",
       "      <td>545181</td>\n",
       "      <td>545181</td>\n",
       "      <td>1</td>\n",
       "      <td>Lecythidaceae</td>\n",
       "      <td>Lecythis</td>\n",
       "      <td>Lecythis retusa Spruce ex O.Berg</td>\n",
       "      <td>images/156/72/545181.jpg</td>\n",
       "      <td>1000</td>\n",
       "      <td>1</td>\n",
       "      <td>661</td>\n",
       "      <td>South America</td>\n",
       "    </tr>\n",
       "    <tr>\n",
       "      <th>2</th>\n",
       "      <td>15672</td>\n",
       "      <td>449419</td>\n",
       "      <td>449419</td>\n",
       "      <td>1</td>\n",
       "      <td>Lecythidaceae</td>\n",
       "      <td>Lecythis</td>\n",
       "      <td>Lecythis retusa Spruce ex O.Berg</td>\n",
       "      <td>images/156/72/449419.jpg</td>\n",
       "      <td>1000</td>\n",
       "      <td>1</td>\n",
       "      <td>662</td>\n",
       "      <td>South America</td>\n",
       "    </tr>\n",
       "    <tr>\n",
       "      <th>3</th>\n",
       "      <td>15672</td>\n",
       "      <td>200223</td>\n",
       "      <td>200223</td>\n",
       "      <td>1</td>\n",
       "      <td>Lecythidaceae</td>\n",
       "      <td>Lecythis</td>\n",
       "      <td>Lecythis retusa Spruce ex O.Berg</td>\n",
       "      <td>images/156/72/200223.jpg</td>\n",
       "      <td>1000</td>\n",
       "      <td>1</td>\n",
       "      <td>661</td>\n",
       "      <td>South America</td>\n",
       "    </tr>\n",
       "    <tr>\n",
       "      <th>4</th>\n",
       "      <td>15672</td>\n",
       "      <td>5327</td>\n",
       "      <td>5327</td>\n",
       "      <td>1</td>\n",
       "      <td>Lecythidaceae</td>\n",
       "      <td>Lecythis</td>\n",
       "      <td>Lecythis retusa Spruce ex O.Berg</td>\n",
       "      <td>images/156/72/5327.jpg</td>\n",
       "      <td>1000</td>\n",
       "      <td>1</td>\n",
       "      <td>661</td>\n",
       "      <td>South America</td>\n",
       "    </tr>\n",
       "    <tr>\n",
       "      <th>...</th>\n",
       "      <td>...</td>\n",
       "      <td>...</td>\n",
       "      <td>...</td>\n",
       "      <td>...</td>\n",
       "      <td>...</td>\n",
       "      <td>...</td>\n",
       "      <td>...</td>\n",
       "      <td>...</td>\n",
       "      <td>...</td>\n",
       "      <td>...</td>\n",
       "      <td>...</td>\n",
       "      <td>...</td>\n",
       "    </tr>\n",
       "    <tr>\n",
       "      <th>1030742</th>\n",
       "      <td>2765</td>\n",
       "      <td>602937</td>\n",
       "      <td>602937</td>\n",
       "      <td>2</td>\n",
       "      <td>Pteridaceae</td>\n",
       "      <td>Astrolepis</td>\n",
       "      <td>Astrolepis windhamii D.M.Benham</td>\n",
       "      <td>images/027/65/602937.jpg</td>\n",
       "      <td>1000</td>\n",
       "      <td>1</td>\n",
       "      <td>678</td>\n",
       "      <td>US &amp; Canada</td>\n",
       "    </tr>\n",
       "    <tr>\n",
       "      <th>1030743</th>\n",
       "      <td>3467</td>\n",
       "      <td>12768</td>\n",
       "      <td>12768</td>\n",
       "      <td>2</td>\n",
       "      <td>Bromeliaceae</td>\n",
       "      <td>Billbergia</td>\n",
       "      <td>Billbergia macrocalyx Hook.</td>\n",
       "      <td>images/034/67/12768.jpg</td>\n",
       "      <td>1000</td>\n",
       "      <td>1</td>\n",
       "      <td>678</td>\n",
       "      <td>US &amp; Canada</td>\n",
       "    </tr>\n",
       "    <tr>\n",
       "      <th>1030744</th>\n",
       "      <td>3467</td>\n",
       "      <td>945011</td>\n",
       "      <td>945011</td>\n",
       "      <td>2</td>\n",
       "      <td>Bromeliaceae</td>\n",
       "      <td>Billbergia</td>\n",
       "      <td>Billbergia macrocalyx Hook.</td>\n",
       "      <td>images/034/67/945011.jpg</td>\n",
       "      <td>1000</td>\n",
       "      <td>1</td>\n",
       "      <td>678</td>\n",
       "      <td>US &amp; Canada</td>\n",
       "    </tr>\n",
       "    <tr>\n",
       "      <th>1030745</th>\n",
       "      <td>20684</td>\n",
       "      <td>916700</td>\n",
       "      <td>916700</td>\n",
       "      <td>2</td>\n",
       "      <td>Paeoniaceae</td>\n",
       "      <td>Paeonia</td>\n",
       "      <td>Paeonia brownii Douglas ex Hook.</td>\n",
       "      <td>images/206/84/916700.jpg</td>\n",
       "      <td>1000</td>\n",
       "      <td>1</td>\n",
       "      <td>681</td>\n",
       "      <td>US &amp; Canada</td>\n",
       "    </tr>\n",
       "    <tr>\n",
       "      <th>1030746</th>\n",
       "      <td>20684</td>\n",
       "      <td>577648</td>\n",
       "      <td>577648</td>\n",
       "      <td>2</td>\n",
       "      <td>Paeoniaceae</td>\n",
       "      <td>Paeonia</td>\n",
       "      <td>Paeonia brownii Douglas ex Hook.</td>\n",
       "      <td>images/206/84/577648.jpg</td>\n",
       "      <td>1000</td>\n",
       "      <td>1</td>\n",
       "      <td>676</td>\n",
       "      <td>US &amp; Canada</td>\n",
       "    </tr>\n",
       "  </tbody>\n",
       "</table>\n",
       "<p>1030747 rows × 12 columns</p>\n",
       "</div>"
      ],
      "text/plain": [
       "         category_id      id  image_id  region_id         family       genus  \\\n",
       "0              15672  354106    354106          1  Lecythidaceae    Lecythis   \n",
       "1              15672  545181    545181          1  Lecythidaceae    Lecythis   \n",
       "2              15672  449419    449419          1  Lecythidaceae    Lecythis   \n",
       "3              15672  200223    200223          1  Lecythidaceae    Lecythis   \n",
       "4              15672    5327      5327          1  Lecythidaceae    Lecythis   \n",
       "...              ...     ...       ...        ...            ...         ...   \n",
       "1030742         2765  602937    602937          2    Pteridaceae  Astrolepis   \n",
       "1030743         3467   12768     12768          2   Bromeliaceae  Billbergia   \n",
       "1030744         3467  945011    945011          2   Bromeliaceae  Billbergia   \n",
       "1030745        20684  916700    916700          2    Paeoniaceae     Paeonia   \n",
       "1030746        20684  577648    577648          2    Paeoniaceae     Paeonia   \n",
       "\n",
       "                            category_name                 file_name  height  \\\n",
       "0        Lecythis retusa Spruce ex O.Berg  images/156/72/354106.jpg    1000   \n",
       "1        Lecythis retusa Spruce ex O.Berg  images/156/72/545181.jpg    1000   \n",
       "2        Lecythis retusa Spruce ex O.Berg  images/156/72/449419.jpg    1000   \n",
       "3        Lecythis retusa Spruce ex O.Berg  images/156/72/200223.jpg    1000   \n",
       "4        Lecythis retusa Spruce ex O.Berg    images/156/72/5327.jpg    1000   \n",
       "...                                   ...                       ...     ...   \n",
       "1030742   Astrolepis windhamii D.M.Benham  images/027/65/602937.jpg    1000   \n",
       "1030743       Billbergia macrocalyx Hook.   images/034/67/12768.jpg    1000   \n",
       "1030744       Billbergia macrocalyx Hook.  images/034/67/945011.jpg    1000   \n",
       "1030745  Paeonia brownii Douglas ex Hook.  images/206/84/916700.jpg    1000   \n",
       "1030746  Paeonia brownii Douglas ex Hook.  images/206/84/577648.jpg    1000   \n",
       "\n",
       "         license  width    region_name  \n",
       "0              1    661  South America  \n",
       "1              1    661  South America  \n",
       "2              1    662  South America  \n",
       "3              1    661  South America  \n",
       "4              1    661  South America  \n",
       "...          ...    ...            ...  \n",
       "1030742        1    678    US & Canada  \n",
       "1030743        1    678    US & Canada  \n",
       "1030744        1    678    US & Canada  \n",
       "1030745        1    681    US & Canada  \n",
       "1030746        1    676    US & Canada  \n",
       "\n",
       "[1030747 rows x 12 columns]"
      ]
     },
     "metadata": {},
     "output_type": "display_data"
    }
   ],
   "source": [
    "dtypes = ['int32', 'int32', 'int32', 'int32', 'object', 'object', 'object', 'object', 'int32', 'int32', 'int32', 'object']\n",
    "for n, col in enumerate(train_df.columns):\n",
    "    train_df[col] = train_df[col].astype(dtypes[n])\n",
    "print(train_df.info())\n",
    "display(train_df)"
   ]
  },
  {
   "cell_type": "markdown",
   "metadata": {},
   "source": [
    "Finally, for our `test` dataset. Since it only contains one key, `images`:"
   ]
  },
  {
   "cell_type": "code",
   "execution_count": 13,
   "metadata": {
    "execution": {
     "iopub.execute_input": "2021-10-21T05:36:47.531297Z",
     "iopub.status.busy": "2021-10-21T05:36:47.530666Z",
     "iopub.status.idle": "2021-10-21T05:36:47.538886Z",
     "shell.execute_reply": "2021-10-21T05:36:47.537658Z",
     "shell.execute_reply.started": "2021-10-21T05:36:47.531244Z"
    }
   },
   "outputs": [
    {
     "data": {
      "text/plain": [
       "dict_keys(['images', 'info', 'licenses'])"
      ]
     },
     "execution_count": 13,
     "metadata": {},
     "output_type": "execute_result"
    }
   ],
   "source": [
    "test_meta.keys()"
   ]
  },
  {
   "cell_type": "code",
   "execution_count": 14,
   "metadata": {
    "execution": {
     "iopub.execute_input": "2021-10-21T05:36:47.541549Z",
     "iopub.status.busy": "2021-10-21T05:36:47.540925Z",
     "iopub.status.idle": "2021-10-21T05:36:47.995507Z",
     "shell.execute_reply": "2021-10-21T05:36:47.994562Z",
     "shell.execute_reply.started": "2021-10-21T05:36:47.541340Z"
    }
   },
   "outputs": [
    {
     "name": "stdout",
     "output_type": "stream",
     "text": [
      "<class 'pandas.core.frame.DataFrame'>\n",
      "RangeIndex: 138292 entries, 0 to 138291\n",
      "Data columns (total 5 columns):\n",
      "file_name    138292 non-null object\n",
      "height       138292 non-null int64\n",
      "image_id     138292 non-null int64\n",
      "license      138292 non-null int64\n",
      "width        138292 non-null int64\n",
      "dtypes: int64(4), object(1)\n",
      "memory usage: 5.3+ MB\n",
      "None\n"
     ]
    },
    {
     "data": {
      "text/html": [
       "<div>\n",
       "<style scoped>\n",
       "    .dataframe tbody tr th:only-of-type {\n",
       "        vertical-align: middle;\n",
       "    }\n",
       "\n",
       "    .dataframe tbody tr th {\n",
       "        vertical-align: top;\n",
       "    }\n",
       "\n",
       "    .dataframe thead th {\n",
       "        text-align: right;\n",
       "    }\n",
       "</style>\n",
       "<table border=\"1\" class=\"dataframe\">\n",
       "  <thead>\n",
       "    <tr style=\"text-align: right;\">\n",
       "      <th></th>\n",
       "      <th>file_name</th>\n",
       "      <th>height</th>\n",
       "      <th>image_id</th>\n",
       "      <th>license</th>\n",
       "      <th>width</th>\n",
       "    </tr>\n",
       "  </thead>\n",
       "  <tbody>\n",
       "    <tr>\n",
       "      <th>0</th>\n",
       "      <td>images/104/104891.jpg</td>\n",
       "      <td>1000</td>\n",
       "      <td>104891</td>\n",
       "      <td>1</td>\n",
       "      <td>661</td>\n",
       "    </tr>\n",
       "    <tr>\n",
       "      <th>1</th>\n",
       "      <td>images/018/18029.jpg</td>\n",
       "      <td>1000</td>\n",
       "      <td>18029</td>\n",
       "      <td>1</td>\n",
       "      <td>661</td>\n",
       "    </tr>\n",
       "    <tr>\n",
       "      <th>2</th>\n",
       "      <td>images/035/35151.jpg</td>\n",
       "      <td>1000</td>\n",
       "      <td>35151</td>\n",
       "      <td>1</td>\n",
       "      <td>661</td>\n",
       "    </tr>\n",
       "    <tr>\n",
       "      <th>3</th>\n",
       "      <td>images/124/124144.jpg</td>\n",
       "      <td>1000</td>\n",
       "      <td>124144</td>\n",
       "      <td>1</td>\n",
       "      <td>682</td>\n",
       "    </tr>\n",
       "    <tr>\n",
       "      <th>4</th>\n",
       "      <td>images/024/24649.jpg</td>\n",
       "      <td>1000</td>\n",
       "      <td>24649</td>\n",
       "      <td>1</td>\n",
       "      <td>682</td>\n",
       "    </tr>\n",
       "    <tr>\n",
       "      <th>...</th>\n",
       "      <td>...</td>\n",
       "      <td>...</td>\n",
       "      <td>...</td>\n",
       "      <td>...</td>\n",
       "      <td>...</td>\n",
       "    </tr>\n",
       "    <tr>\n",
       "      <th>138287</th>\n",
       "      <td>images/032/32738.jpg</td>\n",
       "      <td>1000</td>\n",
       "      <td>32738</td>\n",
       "      <td>1</td>\n",
       "      <td>661</td>\n",
       "    </tr>\n",
       "    <tr>\n",
       "      <th>138288</th>\n",
       "      <td>images/016/16804.jpg</td>\n",
       "      <td>1000</td>\n",
       "      <td>16804</td>\n",
       "      <td>1</td>\n",
       "      <td>682</td>\n",
       "    </tr>\n",
       "    <tr>\n",
       "      <th>138289</th>\n",
       "      <td>images/113/113662.jpg</td>\n",
       "      <td>1000</td>\n",
       "      <td>113662</td>\n",
       "      <td>1</td>\n",
       "      <td>682</td>\n",
       "    </tr>\n",
       "    <tr>\n",
       "      <th>138290</th>\n",
       "      <td>images/086/86100.jpg</td>\n",
       "      <td>1000</td>\n",
       "      <td>86100</td>\n",
       "      <td>1</td>\n",
       "      <td>682</td>\n",
       "    </tr>\n",
       "    <tr>\n",
       "      <th>138291</th>\n",
       "      <td>images/028/28731.jpg</td>\n",
       "      <td>1000</td>\n",
       "      <td>28731</td>\n",
       "      <td>1</td>\n",
       "      <td>682</td>\n",
       "    </tr>\n",
       "  </tbody>\n",
       "</table>\n",
       "<p>138292 rows × 5 columns</p>\n",
       "</div>"
      ],
      "text/plain": [
       "                    file_name  height  image_id  license  width\n",
       "0       images/104/104891.jpg    1000    104891        1    661\n",
       "1        images/018/18029.jpg    1000     18029        1    661\n",
       "2        images/035/35151.jpg    1000     35151        1    661\n",
       "3       images/124/124144.jpg    1000    124144        1    682\n",
       "4        images/024/24649.jpg    1000     24649        1    682\n",
       "...                       ...     ...       ...      ...    ...\n",
       "138287   images/032/32738.jpg    1000     32738        1    661\n",
       "138288   images/016/16804.jpg    1000     16804        1    682\n",
       "138289  images/113/113662.jpg    1000    113662        1    682\n",
       "138290   images/086/86100.jpg    1000     86100        1    682\n",
       "138291   images/028/28731.jpg    1000     28731        1    682\n",
       "\n",
       "[138292 rows x 5 columns]"
      ]
     },
     "metadata": {},
     "output_type": "display_data"
    }
   ],
   "source": [
    "test_df = pd.DataFrame(test_meta['images'])\n",
    "test_df.columns = ['file_name', 'height', 'image_id', 'license', 'width']\n",
    "print(test_df.info())\n",
    "display(test_df)"
   ]
  },
  {
   "cell_type": "markdown",
   "metadata": {},
   "source": [
    "Perfect!\n",
    "\n",
    "Now, we can go ahead and save this dataframe as a `*.csv` file for future use!"
   ]
  },
  {
   "cell_type": "code",
   "execution_count": 15,
   "metadata": {
    "execution": {
     "iopub.execute_input": "2021-10-21T05:36:47.997993Z",
     "iopub.status.busy": "2021-10-21T05:36:47.997304Z",
     "iopub.status.idle": "2021-10-21T05:37:05.041835Z",
     "shell.execute_reply": "2021-10-21T05:37:05.040954Z",
     "shell.execute_reply.started": "2021-10-21T05:36:47.997939Z"
    }
   },
   "outputs": [],
   "source": [
    "train_df.to_csv('full_train_data.csv', index=False)\n",
    "test_df.to_csv('full_test_data.csv', index=False)"
   ]
  },
  {
   "cell_type": "markdown",
   "metadata": {},
   "source": [
    "# Data Exploration\n",
    "\n",
    "We will now start the data exploration and see what we can do with this dataset."
   ]
  },
  {
   "cell_type": "code",
   "execution_count": 16,
   "metadata": {
    "execution": {
     "iopub.execute_input": "2021-10-21T05:37:05.043448Z",
     "iopub.status.busy": "2021-10-21T05:37:05.043081Z",
     "iopub.status.idle": "2021-10-21T05:37:05.047218Z",
     "shell.execute_reply": "2021-10-21T05:37:05.046430Z",
     "shell.execute_reply.started": "2021-10-21T05:37:05.043394Z"
    }
   },
   "outputs": [],
   "source": [
    "import matplotlib.pyplot as plt"
   ]
  },
  {
   "cell_type": "code",
   "execution_count": 17,
   "metadata": {
    "execution": {
     "iopub.execute_input": "2021-10-21T05:37:05.049508Z",
     "iopub.status.busy": "2021-10-21T05:37:05.048751Z",
     "iopub.status.idle": "2021-10-21T05:37:06.249737Z",
     "shell.execute_reply": "2021-10-21T05:37:06.248653Z",
     "shell.execute_reply.started": "2021-10-21T05:37:05.049461Z"
    }
   },
   "outputs": [
    {
     "name": "stdout",
     "output_type": "stream",
     "text": [
      "32093 種類\n"
     ]
    },
    {
     "data": {
      "image/png": "[encoded data removed]",
      "text/plain": [
       "<Figure size 1008x216 with 2 Axes>"
      ]
     },
     "metadata": {
      "needs_background": "light"
     },
     "output_type": "display_data"
    }
   ],
   "source": [
    "_train = train_df['category_name'].value_counts()\n",
    "print(len(_train),'種類')\n",
    "fig = plt.figure(figsize=(14,3))\n",
    "ax1 = fig.add_subplot(1, 2, 1)\n",
    "ax1.bar(_train[0:11].index,_train[0:11].values)\n",
    "plt.xticks(rotation=90)\n",
    "plt.title('top10')\n",
    "ax2 = fig.add_subplot(1, 2, 2)\n",
    "ax2.bar(_train[-10:-1].index,_train[-10:-1].values)\n",
    "plt.xticks(rotation=90)\n",
    "plt.title('worst10')\n",
    "fig.savefig(\"category_top10_worst_10.png\",bbox_inches=\"tight\")\n",
    "plt.show()"
   ]
  },
  {
   "cell_type": "code",
   "execution_count": 18,
   "metadata": {
    "execution": {
     "iopub.execute_input": "2021-10-21T05:37:06.251555Z",
     "iopub.status.busy": "2021-10-21T05:37:06.251135Z",
     "iopub.status.idle": "2021-10-21T05:37:07.267099Z",
     "shell.execute_reply": "2021-10-21T05:37:07.266015Z",
     "shell.execute_reply.started": "2021-10-21T05:37:06.251496Z"
    }
   },
   "outputs": [
    {
     "name": "stdout",
     "output_type": "stream",
     "text": [
      "310 family\n"
     ]
    },
    {
     "data": {
      "image/png": "[encoded data removed]",
      "text/plain": [
       "<Figure size 1008x216 with 2 Axes>"
      ]
     },
     "metadata": {
      "needs_background": "light"
     },
     "output_type": "display_data"
    }
   ],
   "source": [
    "_train = train_df['family'].value_counts()\n",
    "print(len(_train),'family')\n",
    "fig = plt.figure(figsize=(14,3))\n",
    "ax1 = fig.add_subplot(1, 2, 1)\n",
    "ax1.bar(_train[0:11].index,_train[0:11].values)\n",
    "plt.xticks(rotation=90)\n",
    "plt.title('top10')\n",
    "ax2 = fig.add_subplot(1, 2, 2)\n",
    "ax2.bar(_train[-10:-1].index,_train[-10:-1].values)\n",
    "plt.xticks(rotation=90)\n",
    "plt.title('worst10')\n",
    "fig.savefig(\"family_top10_worst_10.png\",bbox_inches=\"tight\")\n",
    "plt.show()"
   ]
  },
  {
   "cell_type": "code",
   "execution_count": 19,
   "metadata": {
    "execution": {
     "iopub.execute_input": "2021-10-21T05:37:07.272543Z",
     "iopub.status.busy": "2021-10-21T05:37:07.271981Z",
     "iopub.status.idle": "2021-10-21T05:37:08.283294Z",
     "shell.execute_reply": "2021-10-21T05:37:08.282310Z",
     "shell.execute_reply.started": "2021-10-21T05:37:07.272362Z"
    }
   },
   "outputs": [
    {
     "name": "stdout",
     "output_type": "stream",
     "text": [
      "3678 genus\n"
     ]
    },
    {
     "data": {
      "image/png": "[encoded data removed]",
      "text/plain": [
       "<Figure size 1008x216 with 2 Axes>"
      ]
     },
     "metadata": {
      "needs_background": "light"
     },
     "output_type": "display_data"
    }
   ],
   "source": [
    "_train = train_df['genus'].value_counts()\n",
    "print(len(_train),'genus')\n",
    "fig = plt.figure(figsize=(14,3))\n",
    "ax1 = fig.add_subplot(1, 2, 1)\n",
    "ax1.bar(_train[0:11].index,_train[0:11].values)\n",
    "plt.xticks(rotation=90)\n",
    "plt.title('top10')\n",
    "ax2 = fig.add_subplot(1, 2, 2)\n",
    "ax2.bar(_train[-10:-1].index,_train[-10:-1].values)\n",
    "plt.xticks(rotation=90)\n",
    "plt.title('worst10')\n",
    "fig.savefig(\"genus_top10_worst_10.png\",bbox_inches=\"tight\")\n",
    "plt.show()"
   ]
  },
  {
   "cell_type": "code",
   "execution_count": 20,
   "metadata": {
    "execution": {
     "iopub.execute_input": "2021-10-21T05:37:08.285239Z",
     "iopub.status.busy": "2021-10-21T05:37:08.284682Z",
     "iopub.status.idle": "2021-10-21T05:37:09.137701Z",
     "shell.execute_reply": "2021-10-21T05:37:09.136667Z",
     "shell.execute_reply.started": "2021-10-21T05:37:08.285190Z"
    }
   },
   "outputs": [
    {
     "name": "stdout",
     "output_type": "stream",
     "text": [
      "Total Unique Values for each columns:\n",
      "train_df   \t    1030747\n",
      "category_id \t      32093\n",
      "id         \t    1030747\n",
      "image_id   \t    1030747\n",
      "region_id  \t          4\n",
      "family     \t        310\n",
      "genus      \t       3678\n",
      "category_name \t      32093\n",
      "file_name  \t    1030747\n",
      "height     \t         32\n",
      "license    \t          1\n",
      "width      \t        181\n",
      "region_name \t          4\n"
     ]
    }
   ],
   "source": [
    "print(\"Total Unique Values for each columns:\")\n",
    "print(\"{0:10s} \\t {1:10d}\".format('train_df', len(train_df)))\n",
    "for col in train_df.columns:\n",
    "    print(\"{0:10s} \\t {1:10d}\".format(col, len(train_df[col].unique())))"
   ]
  },
  {
   "cell_type": "markdown",
   "metadata": {},
   "source": [
    "Here, we can see that other than the `category_id`, there's also the `family`, `genus`, `category_name`, `region_id` and `region_name` for the other probable targets. `category_id` and `category_name` are one and the same, similar to `region_id` and `region_name`.\n",
    "\n",
    "A possible approach for this kernel is to use a `CNN` to predict `family` and `genus` (we will ignore `region` for now). Then, using the `family` and `genus`, we will predict the `category_id` for the image."
   ]
  },
  {
   "cell_type": "code",
   "execution_count": 21,
   "metadata": {
    "execution": {
     "iopub.execute_input": "2021-10-21T05:37:09.140145Z",
     "iopub.status.busy": "2021-10-21T05:37:09.139483Z",
     "iopub.status.idle": "2021-10-21T05:37:09.414545Z",
     "shell.execute_reply": "2021-10-21T05:37:09.413765Z",
     "shell.execute_reply.started": "2021-10-21T05:37:09.140090Z"
    }
   },
   "outputs": [
    {
     "data": {
      "text/html": [
       "<div>\n",
       "<style scoped>\n",
       "    .dataframe tbody tr th:only-of-type {\n",
       "        vertical-align: middle;\n",
       "    }\n",
       "\n",
       "    .dataframe tbody tr th {\n",
       "        vertical-align: top;\n",
       "    }\n",
       "\n",
       "    .dataframe thead th {\n",
       "        text-align: right;\n",
       "    }\n",
       "</style>\n",
       "<table border=\"1\" class=\"dataframe\">\n",
       "  <thead>\n",
       "    <tr style=\"text-align: right;\">\n",
       "      <th></th>\n",
       "      <th>category_name</th>\n",
       "    </tr>\n",
       "  </thead>\n",
       "  <tbody>\n",
       "    <tr>\n",
       "      <th>count</th>\n",
       "      <td>3680.000000</td>\n",
       "    </tr>\n",
       "    <tr>\n",
       "      <th>mean</th>\n",
       "      <td>280.094293</td>\n",
       "    </tr>\n",
       "    <tr>\n",
       "      <th>std</th>\n",
       "      <td>763.666084</td>\n",
       "    </tr>\n",
       "    <tr>\n",
       "      <th>min</th>\n",
       "      <td>2.000000</td>\n",
       "    </tr>\n",
       "    <tr>\n",
       "      <th>25%</th>\n",
       "      <td>12.000000</td>\n",
       "    </tr>\n",
       "    <tr>\n",
       "      <th>50%</th>\n",
       "      <td>54.000000</td>\n",
       "    </tr>\n",
       "    <tr>\n",
       "      <th>75%</th>\n",
       "      <td>198.000000</td>\n",
       "    </tr>\n",
       "    <tr>\n",
       "      <th>max</th>\n",
       "      <td>14490.000000</td>\n",
       "    </tr>\n",
       "  </tbody>\n",
       "</table>\n",
       "</div>"
      ],
      "text/plain": [
       "       category_name\n",
       "count    3680.000000\n",
       "mean      280.094293\n",
       "std       763.666084\n",
       "min         2.000000\n",
       "25%        12.000000\n",
       "50%        54.000000\n",
       "75%       198.000000\n",
       "max     14490.000000"
      ]
     },
     "metadata": {},
     "output_type": "display_data"
    }
   ],
   "source": [
    "family = train_df[['family', 'genus', 'category_name']].groupby(['family', 'genus']).count()\n",
    "display(family.describe())"
   ]
  },
  {
   "cell_type": "markdown",
   "metadata": {},
   "source": [
    "With some proper `image_data_augmentation` we can make up for the small number of samples for some images (first quartile)."
   ]
  },
  {
   "cell_type": "markdown",
   "metadata": {},
   "source": [
    "# Model Creation\n",
    "一度にcategoryを当てに行くこともできるが、事前情報として与えられているfamilyやgenusの情報を生かして、モデルを構築するアプローチをとる。(そのまま予測する手法はほかメンバーが実施。)\n",
    "\n",
    "familyやgenusをcategoryの予測に生かす時、familyやgenusを予測する分類器を作って、特定の層の重みを学習させないことができる。tensorFlowであれば、レイヤーにtrainable属性が存在し、パラメータを学習させたくない層やモデルについて、trainable属性をFalseとすることで、学習をかけないでおくことができる。(ただし学習前の最後にcompile()を実行しないと属性の変更が繁栄されないので注意)\n",
    "\n",
    "参考のURLでは\n",
    "> summary()の出力結果には反映されているが、実際に設定を有効にするにはcompile()する必要があるので注意。compile()のあとでtrainableを変更した場合、再度compile()しなければならない。\n",
    "\n",
    "としているため、このnotebookではtrainable属性の変更をしていないまま学習をかけていることになっているのではないか？\n",
    "\n",
    "\n",
    "参考\n",
    "https://note.nkmk.me/python-tensorflow-keras-trainable-freeze-unfreeze/\n"
   ]
  },
  {
   "cell_type": "markdown",
   "metadata": {},
   "source": [
    "## CNNの構造の決め方について\n",
    "調べてもこういう時はこうするみたいな各事例ごとの具体例が出てくるのみ。また最近は「これが流行り」のようなモデル構造の隆盛まであるっぽい。結局どうすりゃいいかわからないから、Efficientnetに任せてしまうことにした。(AutoMLの考え方から)\n",
    "\n",
    "\n",
    "参考\n",
    "https://qiita.com/icoxfog417/items/5fd55fad152231d706c2"
   ]
  },
  {
   "cell_type": "markdown",
   "metadata": {},
   "source": [
    "# Data Generator\n",
    "data generatorを作る。\n",
    "前処理等しておくにはデータの容量が大きすぎる。バッチごとに処理をするので、dataGeneratorに任せることとする。\n",
    "\n",
    "処理時間参考\n",
    "https://hironsan.hatenablog.com/entry/2017/09/09/130608"
   ]
  },
  {
   "cell_type": "code",
   "execution_count": 22,
   "metadata": {
    "execution": {
     "iopub.execute_input": "2021-10-21T05:37:09.416233Z",
     "iopub.status.busy": "2021-10-21T05:37:09.415854Z",
     "iopub.status.idle": "2021-10-21T05:37:15.520428Z",
     "shell.execute_reply": "2021-10-21T05:37:15.519646Z",
     "shell.execute_reply.started": "2021-10-21T05:37:09.416188Z"
    }
   },
   "outputs": [],
   "source": [
    "from tensorflow.keras.preprocessing.image import ImageDataGenerator\n",
    "\n",
    "train_datagen = ImageDataGenerator(featurewise_center=False,\n",
    "                                     featurewise_std_normalization=False,\n",
    "                                     rotation_range=180,\n",
    "                                     width_shift_range=0.1,\n",
    "                                     height_shift_range=0.1,\n",
    "                                     zoom_range=0.2)"
   ]
  },
  {
   "cell_type": "markdown",
   "metadata": {},
   "source": [
    "Now, we will transform the `family` and `genus` to ids."
   ]
  },
  {
   "cell_type": "code",
   "execution_count": 23,
   "metadata": {
    "execution": {
     "iopub.execute_input": "2021-10-21T05:37:15.522128Z",
     "iopub.status.busy": "2021-10-21T05:37:15.521753Z",
     "iopub.status.idle": "2021-10-21T05:37:41.043542Z",
     "shell.execute_reply": "2021-10-21T05:37:41.042675Z",
     "shell.execute_reply.started": "2021-10-21T05:37:15.522083Z"
    }
   },
   "outputs": [
    {
     "name": "stderr",
     "output_type": "stream",
     "text": [
      "/opt/conda/lib/python3.6/site-packages/pandas/core/generic.py:5208: SettingWithCopyWarning: \n",
      "A value is trying to be set on a copy of a slice from a DataFrame.\n",
      "Try using .loc[row_indexer,col_indexer] = value instead\n",
      "\n",
      "See the caveats in the documentation: http://pandas.pydata.org/pandas-docs/stable/user_guide/indexing.html#returning-a-view-versus-a-copy\n",
      "  self[name] = value\n"
     ]
    },
    {
     "data": {
      "text/html": [
       "<div>\n",
       "<style scoped>\n",
       "    .dataframe tbody tr th:only-of-type {\n",
       "        vertical-align: middle;\n",
       "    }\n",
       "\n",
       "    .dataframe tbody tr th {\n",
       "        vertical-align: top;\n",
       "    }\n",
       "\n",
       "    .dataframe thead th {\n",
       "        text-align: right;\n",
       "    }\n",
       "</style>\n",
       "<table border=\"1\" class=\"dataframe\">\n",
       "  <thead>\n",
       "    <tr style=\"text-align: right;\">\n",
       "      <th></th>\n",
       "      <th>file_name</th>\n",
       "      <th>family</th>\n",
       "      <th>genus</th>\n",
       "      <th>category_id</th>\n",
       "    </tr>\n",
       "  </thead>\n",
       "  <tbody>\n",
       "    <tr>\n",
       "      <th>0</th>\n",
       "      <td>images/156/72/354106.jpg</td>\n",
       "      <td>0</td>\n",
       "      <td>0</td>\n",
       "      <td>15672</td>\n",
       "    </tr>\n",
       "    <tr>\n",
       "      <th>1</th>\n",
       "      <td>images/156/72/545181.jpg</td>\n",
       "      <td>0</td>\n",
       "      <td>0</td>\n",
       "      <td>15672</td>\n",
       "    </tr>\n",
       "    <tr>\n",
       "      <th>2</th>\n",
       "      <td>images/156/72/449419.jpg</td>\n",
       "      <td>0</td>\n",
       "      <td>0</td>\n",
       "      <td>15672</td>\n",
       "    </tr>\n",
       "    <tr>\n",
       "      <th>3</th>\n",
       "      <td>images/156/72/200223.jpg</td>\n",
       "      <td>0</td>\n",
       "      <td>0</td>\n",
       "      <td>15672</td>\n",
       "    </tr>\n",
       "    <tr>\n",
       "      <th>4</th>\n",
       "      <td>images/156/72/5327.jpg</td>\n",
       "      <td>0</td>\n",
       "      <td>0</td>\n",
       "      <td>15672</td>\n",
       "    </tr>\n",
       "    <tr>\n",
       "      <th>...</th>\n",
       "      <td>...</td>\n",
       "      <td>...</td>\n",
       "      <td>...</td>\n",
       "      <td>...</td>\n",
       "    </tr>\n",
       "    <tr>\n",
       "      <th>1030742</th>\n",
       "      <td>images/027/65/602937.jpg</td>\n",
       "      <td>25</td>\n",
       "      <td>1554</td>\n",
       "      <td>2765</td>\n",
       "    </tr>\n",
       "    <tr>\n",
       "      <th>1030743</th>\n",
       "      <td>images/034/67/12768.jpg</td>\n",
       "      <td>32</td>\n",
       "      <td>798</td>\n",
       "      <td>3467</td>\n",
       "    </tr>\n",
       "    <tr>\n",
       "      <th>1030744</th>\n",
       "      <td>images/034/67/945011.jpg</td>\n",
       "      <td>32</td>\n",
       "      <td>798</td>\n",
       "      <td>3467</td>\n",
       "    </tr>\n",
       "    <tr>\n",
       "      <th>1030745</th>\n",
       "      <td>images/206/84/916700.jpg</td>\n",
       "      <td>309</td>\n",
       "      <td>3677</td>\n",
       "      <td>20684</td>\n",
       "    </tr>\n",
       "    <tr>\n",
       "      <th>1030746</th>\n",
       "      <td>images/206/84/577648.jpg</td>\n",
       "      <td>309</td>\n",
       "      <td>3677</td>\n",
       "      <td>20684</td>\n",
       "    </tr>\n",
       "  </tbody>\n",
       "</table>\n",
       "<p>1030747 rows × 4 columns</p>\n",
       "</div>"
      ],
      "text/plain": [
       "                        file_name  family  genus  category_id\n",
       "0        images/156/72/354106.jpg       0      0        15672\n",
       "1        images/156/72/545181.jpg       0      0        15672\n",
       "2        images/156/72/449419.jpg       0      0        15672\n",
       "3        images/156/72/200223.jpg       0      0        15672\n",
       "4          images/156/72/5327.jpg       0      0        15672\n",
       "...                           ...     ...    ...          ...\n",
       "1030742  images/027/65/602937.jpg      25   1554         2765\n",
       "1030743   images/034/67/12768.jpg      32    798         3467\n",
       "1030744  images/034/67/945011.jpg      32    798         3467\n",
       "1030745  images/206/84/916700.jpg     309   3677        20684\n",
       "1030746  images/206/84/577648.jpg     309   3677        20684\n",
       "\n",
       "[1030747 rows x 4 columns]"
      ]
     },
     "metadata": {},
     "output_type": "display_data"
    }
   ],
   "source": [
    "m = train_df[['file_name', 'family', 'genus', 'category_id']]\n",
    "fam = m.family.unique().tolist()\n",
    "m.family = m.family.map(lambda x: fam.index(x))\n",
    "gen = m.genus.unique().tolist()\n",
    "m.genus = m.genus.map(lambda x: gen.index(x))\n",
    "display(m)"
   ]
  },
  {
   "cell_type": "markdown",
   "metadata": {},
   "source": [
    "# Train"
   ]
  },
  {
   "cell_type": "code",
   "execution_count": 24,
   "metadata": {
    "execution": {
     "iopub.execute_input": "2021-10-21T05:37:41.045300Z",
     "iopub.status.busy": "2021-10-21T05:37:41.044901Z",
     "iopub.status.idle": "2021-10-21T05:37:41.051236Z",
     "shell.execute_reply": "2021-10-21T05:37:41.048532Z",
     "shell.execute_reply.started": "2021-10-21T05:37:41.045251Z"
    }
   },
   "outputs": [],
   "source": [
    "os.chdir('../input')"
   ]
  },
  {
   "cell_type": "code",
   "execution_count": 25,
   "metadata": {
    "execution": {
     "iopub.execute_input": "2021-10-21T05:37:41.053622Z",
     "iopub.status.busy": "2021-10-21T05:37:41.052955Z",
     "iopub.status.idle": "2021-10-21T05:37:41.543132Z",
     "shell.execute_reply": "2021-10-21T05:37:41.542287Z",
     "shell.execute_reply.started": "2021-10-21T05:37:41.053570Z"
    }
   },
   "outputs": [
    {
     "name": "stderr",
     "output_type": "stream",
     "text": [
      "Using TensorFlow backend.\n"
     ]
    }
   ],
   "source": [
    "from efficientnet.efficientnet.keras import EfficientNetB3 \n",
    "#from efficientnet.efficientnet.model import EfficientNetB3\n",
    "from keras.models import Model\n",
    "from keras.layers import Dense, Dropout, Conv2D, MaxPool2D, Flatten, BatchNormalization, Input, concatenate\n",
    "from keras.optimizers import Adam\n",
    "from keras.utils import plot_model\n",
    "from sklearn.model_selection import train_test_split as tts"
   ]
  },
  {
   "cell_type": "code",
   "execution_count": 26,
   "metadata": {
    "execution": {
     "iopub.execute_input": "2021-10-21T05:37:41.544897Z",
     "iopub.status.busy": "2021-10-21T05:37:41.544426Z",
     "iopub.status.idle": "2021-10-21T05:37:41.556280Z",
     "shell.execute_reply": "2021-10-21T05:37:41.555281Z",
     "shell.execute_reply.started": "2021-10-21T05:37:41.544838Z"
    }
   },
   "outputs": [],
   "source": [
    "def fg_model(shape,lr):\n",
    "    \n",
    "    \n",
    "    actual_shape = shape\n",
    "    i = Input(actual_shape)\n",
    "    x = EfficientNetB3(weights='imagenet', include_top=False, input_shape=actual_shape, pooling='max')(i)\n",
    "    #x = Flatten()(x)\n",
    "    o1 = Dense(310, name=\"family\", activation='softmax')(x)\n",
    "    o2 = concatenate([x,o1])\n",
    "    o2 = Dense(3678, name=\"genus\", activation='softmax')(o2)\n",
    "    o3 = concatenate([x,o2])\n",
    "    o3 = Dense(32093, name=\"category_id\", activation='softmax')(o3)\n",
    "    model = Model(inputs=i,outputs=[o1,o2,o3])\n",
    "    \n",
    "    #model.layers[1].trainable = False\n",
    "    #model.get_layer('genus').trainable = False\n",
    "    \n",
    "    opt = Adam(lr=lr, amsgrad=True)\n",
    "    model.compile(optimizer=opt, loss=['sparse_categorical_crossentropy', \n",
    "                                   'sparse_categorical_crossentropy','sparse_categorical_crossentropy'],\n",
    "                 metrics=['accuracy'])\n",
    "\n",
    "    \n",
    "    return model"
   ]
  },
  {
   "cell_type": "code",
   "execution_count": 27,
   "metadata": {
    "execution": {
     "iopub.execute_input": "2021-10-21T05:37:41.558808Z",
     "iopub.status.busy": "2021-10-21T05:37:41.558109Z",
     "iopub.status.idle": "2021-10-21T05:37:54.523596Z",
     "shell.execute_reply": "2021-10-21T05:37:54.522848Z",
     "shell.execute_reply.started": "2021-10-21T05:37:41.558751Z"
    }
   },
   "outputs": [
    {
     "name": "stdout",
     "output_type": "stream",
     "text": [
      "Downloading data from https://github.com/Callidior/keras-applications/releases/download/efficientnet/efficientnet-b3_weights_tf_dim_ordering_tf_kernels_autoaugment_notop.h5\n",
      "44113920/44107200 [==============================] - 1s 0us/step\n",
      "Model: \"model_1\"\n",
      "__________________________________________________________________________________________________\n",
      "Layer (type)                    Output Shape         Param #     Connected to                     \n",
      "==================================================================================================\n",
      "input_1 (InputLayer)            (None, 300, 300, 3)  0                                            \n",
      "__________________________________________________________________________________________________\n",
      "efficientnet-b3 (Model)         (None, 1536)         10783528    input_1[0][0]                    \n",
      "__________________________________________________________________________________________________\n",
      "family (Dense)                  (None, 310)          476470      efficientnet-b3[1][0]            \n",
      "__________________________________________________________________________________________________\n",
      "concatenate_1 (Concatenate)     (None, 1846)         0           efficientnet-b3[1][0]            \n",
      "                                                                 family[0][0]                     \n",
      "__________________________________________________________________________________________________\n",
      "genus (Dense)                   (None, 3678)         6793266     concatenate_1[0][0]              \n",
      "__________________________________________________________________________________________________\n",
      "concatenate_2 (Concatenate)     (None, 5214)         0           efficientnet-b3[1][0]            \n",
      "                                                                 genus[0][0]                      \n",
      "__________________________________________________________________________________________________\n",
      "category_id (Dense)             (None, 32093)        167364995   concatenate_2[0][0]              \n",
      "==================================================================================================\n",
      "Total params: 185,418,259\n",
      "Trainable params: 185,330,963\n",
      "Non-trainable params: 87,296\n",
      "__________________________________________________________________________________________________\n"
     ]
    }
   ],
   "source": [
    "model = fg_model((300,300,3), 0.01) #Efficientnet B3 was designed for image size 300x300\n",
    "model.summary()"
   ]
  },
  {
   "cell_type": "markdown",
   "metadata": {},
   "source": [
    "# Train\n",
    "\n",
    "Now, we will begin the training."
   ]
  },
  {
   "cell_type": "code",
   "execution_count": 28,
   "metadata": {
    "execution": {
     "iopub.execute_input": "2021-10-21T05:37:54.525920Z",
     "iopub.status.busy": "2021-10-21T05:37:54.525548Z",
     "iopub.status.idle": "2021-10-21T05:52:54.943065Z",
     "shell.execute_reply": "2021-10-21T05:52:54.941750Z",
     "shell.execute_reply.started": "2021-10-21T05:37:54.525872Z"
    }
   },
   "outputs": [
    {
     "name": "stdout",
     "output_type": "stream",
     "text": [
      "Found 40000 validated image filenames.\n",
      "Found 10000 validated image filenames.\n",
      "Epoch 1/1\n",
      "1249/1250 [============================>.] - ETA: 0s - loss: 20.9107 - family_loss: 4.3010 - genus_loss: 6.8420 - category_id_loss: 9.7677 - family_accuracy: 0.1191 - genus_accuracy: 0.0206 - category_id_accuracy: 0.0015Epoch 1/1\n",
      "1250/1250 [==============================] - 884s 707ms/step - loss: 20.9102 - family_loss: 4.3009 - genus_loss: 6.8415 - category_id_loss: 9.7678 - family_accuracy: 0.1192 - genus_accuracy: 0.0206 - category_id_accuracy: 0.0015 - val_loss: 22.6747 - val_family_loss: 4.6613 - val_genus_loss: 7.6292 - val_category_id_loss: 11.0252 - val_family_accuracy: 0.1163 - val_genus_accuracy: 0.0196 - val_category_id_accuracy: 0.0013\n",
      "Found 40000 validated image filenames.\n",
      "Found 10000 validated image filenames.\n",
      "Epoch 1/1\n",
      "1249/1250 [============================>.] - ETA: 0s - loss: 22.4587 - family_loss: 4.6847 - genus_loss: 7.2857 - category_id_loss: 10.4884 - family_accuracy: 0.1044 - genus_accuracy: 0.0185 - category_id_accuracy: 0.0010Epoch 1/1\n",
      "1250/1250 [==============================] - 892s 713ms/step - loss: 22.4586 - family_loss: 4.6845 - genus_loss: 7.2862 - category_id_loss: 10.4880 - family_accuracy: 0.1044 - genus_accuracy: 0.0185 - category_id_accuracy: 0.0010 - val_loss: 19.9688 - val_family_loss: 4.2954 - val_genus_loss: 6.9419 - val_category_id_loss: 10.0653 - val_family_accuracy: 0.1139 - val_genus_accuracy: 0.0217 - val_category_id_accuracy: 0.0020\n",
      "Found 40000 validated image filenames.\n",
      "Found 10000 validated image filenames.\n",
      "Epoch 1/1\n",
      "1250/1250 [==============================] - 897s 718ms/step - loss: nan - family_loss: nan - genus_loss: nan - category_id_loss: nan - family_accuracy: 0.0168 - genus_accuracy: 0.0011 - category_id_accuracy: 2.5000e-05 - val_loss: nan - val_family_loss: nan - val_genus_loss: nan - val_category_id_loss: nan - val_family_accuracy: 0.0037 - val_genus_accuracy: 4.0064e-04 - val_category_id_accuracy: 0.0000e+00\n"
     ]
    },
    {
     "data": {
      "text/plain": [
       "<keras.callbacks.callbacks.History at 0x7f4bcf8a77b8>"
      ]
     },
     "execution_count": 28,
     "metadata": {},
     "output_type": "execute_result"
    }
   ],
   "source": [
    "\n",
    "train, verif = tts(m, test_size=0.2, shuffle=True, random_state=17)\n",
    "train = train[:40000]\n",
    "verif = verif[:10000]\n",
    "shape = (120, 120, 3)\n",
    "epochs = 1\n",
    "batch_size = 32\n",
    "\n",
    "model = fg_model(shape, 0.007)\n",
    "opt = Adam(lr=0.007, amsgrad=True)\n",
    "#Disable the last two output layers for training the Family\n",
    "model.get_layer('genus').trainable = True\n",
    "model.get_layer('family').trainable = True\n",
    "model.get_layer('category_id').trainable = True\n",
    "\n",
    "model.compile(optimizer=opt, loss=['sparse_categorical_crossentropy', \n",
    "                               'sparse_categorical_crossentropy','sparse_categorical_crossentropy'],\n",
    "             metrics=['accuracy'])\n",
    "#Train Family for 2 epochs\n",
    "model.fit_generator(train_datagen.flow_from_dataframe(dataframe=train,\n",
    "                                                      directory='../input/herbarium-2020-fgvc7/nybg2020/train/',\n",
    "                                                      x_col=\"file_name\",\n",
    "                                                      y_col=[\"family\", \"genus\", \"category_id\"],\n",
    "                                                      target_size=(120, 120),\n",
    "                                                      batch_size=batch_size,\n",
    "                                                      class_mode='multi_output'),\n",
    "                    validation_data=train_datagen.flow_from_dataframe(\n",
    "                        dataframe=verif,\n",
    "                        directory='../input/herbarium-2020-fgvc7/nybg2020/train/',\n",
    "                        x_col=\"file_name\",\n",
    "                        y_col=[\"family\", \"genus\", \"category_id\"],\n",
    "                        target_size=(120, 120),\n",
    "                        batch_size=batch_size,\n",
    "                        class_mode='multi_output'),\n",
    "                    epochs=epochs,\n",
    "                    steps_per_epoch=len(train)//batch_size,\n",
    "                    validation_steps=len(verif)//batch_size,\n",
    "                    verbose=1,\n",
    "                    workers=8,\n",
    "                    use_multiprocessing=True)\n",
    "\n",
    "#Reshuffle the inputs\n",
    "train, verif = tts(m, test_size=0.2, shuffle=True, random_state=18)\n",
    "train = train[:40000]\n",
    "verif = verif[:10000]\n",
    "\n",
    "#Make the Genus layer Trainable\n",
    "model.get_layer('genus').trainable = True\n",
    "model.get_layer('family').trainable = False\n",
    "model.get_layer('category_id').trainable = True\n",
    "model.compile(optimizer=opt, loss=['sparse_categorical_crossentropy', \n",
    "                               'sparse_categorical_crossentropy','sparse_categorical_crossentropy'],\n",
    "             metrics=['accuracy'])\n",
    "\n",
    "#Train Family and Genus for 2 epochs\n",
    "model.fit_generator(train_datagen.flow_from_dataframe(dataframe=train,\n",
    "                                                      directory='../input/herbarium-2020-fgvc7/nybg2020/train/',\n",
    "                                                      x_col=\"file_name\",\n",
    "                                                      y_col=[\"family\", \"genus\", \"category_id\"],\n",
    "                                                      target_size=(120, 120),\n",
    "                                                      batch_size=batch_size,\n",
    "                                                      class_mode='multi_output'),\n",
    "                    validation_data=train_datagen.flow_from_dataframe(\n",
    "                        dataframe=verif,\n",
    "                        directory='../input/herbarium-2020-fgvc7/nybg2020/train/',\n",
    "                        x_col=\"file_name\",\n",
    "                        y_col=[\"family\", \"genus\", \"category_id\"],\n",
    "                        target_size=(120, 120),\n",
    "                        batch_size=batch_size,\n",
    "                        class_mode='multi_output'),\n",
    "                    epochs=epochs,\n",
    "                    steps_per_epoch=len(train)//batch_size,\n",
    "                    validation_steps=len(verif)//batch_size,\n",
    "                    verbose=1,\n",
    "                    workers=8,\n",
    "                    use_multiprocessing=True)\n",
    "\n",
    "#Reshuffle the inputs\n",
    "train, verif = tts(m, test_size=0.2, shuffle=True, random_state=19)\n",
    "train = train[:40000]\n",
    "verif = verif[:10000]\n",
    "\n",
    "#Make the category_id layer Trainable\n",
    "model.get_layer('genus').trainable = True\n",
    "model.get_layer('family').trainable = True\n",
    "model.get_layer('category_id').trainable = True\n",
    "model.compile(optimizer=opt, loss=['sparse_categorical_crossentropy', \n",
    "                               'sparse_categorical_crossentropy','sparse_categorical_crossentropy'],\n",
    "             metrics=['accuracy'])\n",
    "#Train them all for 2 epochs\n",
    "model.fit_generator(train_datagen.flow_from_dataframe(dataframe=train,\n",
    "                                                      directory='../input/herbarium-2020-fgvc7/nybg2020/train/',\n",
    "                                                      x_col=\"file_name\",\n",
    "                                                      y_col=[\"family\", \"genus\", \"category_id\"],\n",
    "                                                      target_size=(120, 120),\n",
    "                                                      batch_size=batch_size,\n",
    "                                                      class_mode='multi_output'),\n",
    "                    validation_data=train_datagen.flow_from_dataframe(\n",
    "                        dataframe=verif,\n",
    "                        directory='../input/herbarium-2020-fgvc7/nybg2020/train/',\n",
    "                        x_col=\"file_name\",\n",
    "                        y_col=[\"family\", \"genus\", \"category_id\"],\n",
    "                        target_size=(120, 120),\n",
    "                        batch_size=batch_size,\n",
    "                        class_mode='multi_output'),\n",
    "                    epochs=epochs,\n",
    "                    steps_per_epoch=len(train)//batch_size,\n",
    "                    validation_steps=len(verif)//batch_size,\n",
    "                    verbose=1,\n",
    "                    workers=8,\n",
    "                    use_multiprocessing=True)"
   ]
  },
  {
   "cell_type": "code",
   "execution_count": 29,
   "metadata": {
    "execution": {
     "iopub.execute_input": "2021-10-21T05:52:54.964793Z",
     "iopub.status.busy": "2021-10-21T05:52:54.949066Z",
     "iopub.status.idle": "2021-10-21T05:53:18.318830Z",
     "shell.execute_reply": "2021-10-21T05:53:18.317225Z",
     "shell.execute_reply.started": "2021-10-21T05:52:54.964728Z"
    }
   },
   "outputs": [],
   "source": [
    "model.save('../working/fg_model.h5')"
   ]
  },
  {
   "cell_type": "markdown",
   "metadata": {},
   "source": [
    "# Predict\n",
    "\n",
    "Now, we will do our prediction. We may as well skip doing a confusion-matrix for our model because it's not even fully trained, so we go straight to our submission.\n",
    "\n",
    "Similar to the above reason, we will be limiting the `predictions` to the first `10,000` items due to RAM limitations."
   ]
  },
  {
   "cell_type": "code",
   "execution_count": 30,
   "metadata": {
    "execution": {
     "iopub.execute_input": "2021-10-21T05:53:18.320759Z",
     "iopub.status.busy": "2021-10-21T05:53:18.320240Z",
     "iopub.status.idle": "2021-10-21T05:53:18.444854Z",
     "shell.execute_reply": "2021-10-21T05:53:18.443882Z",
     "shell.execute_reply.started": "2021-10-21T05:53:18.320710Z"
    }
   },
   "outputs": [],
   "source": [
    "del train, verif, m, train_df, fam, gen, _train\n",
    "batch_size = 32\n",
    "\n",
    "# generator = test_datagen.flow_from_dataframe(\n",
    "#         dataframe = test_df,#.iloc[:10000], \n",
    "#         directory = '../input/herbarium-2020-fgvc7/nybg2020/test/',\n",
    "#         x_col = 'file_name',\n",
    "#         target_size=(120, 120),\n",
    "#         batch_size=batch_size,\n",
    "#         class_mode=None,  # only data, no labels\n",
    "#         shuffle=False)\n",
    "\n",
    "# family, genus, category = model.predict_generator(generator, verbose=1)"
   ]
  },
  {
   "cell_type": "code",
   "execution_count": 31,
   "metadata": {
    "execution": {
     "iopub.execute_input": "2021-10-21T05:53:18.447442Z",
     "iopub.status.busy": "2021-10-21T05:53:18.446860Z",
     "iopub.status.idle": "2021-10-21T06:27:12.338445Z",
     "shell.execute_reply": "2021-10-21T06:27:12.337497Z",
     "shell.execute_reply.started": "2021-10-21T05:53:18.447369Z"
    }
   },
   "outputs": [
    {
     "name": "stdout",
     "output_type": "stream",
     "text": [
      "Found 10000 validated image filenames.\n",
      "313/313 [==============================] - 144s 461ms/step\n",
      "Found 10000 validated image filenames.\n",
      "313/313 [==============================] - 137s 438ms/step\n",
      "Found 10000 validated image filenames.\n",
      "313/313 [==============================] - 135s 430ms/step\n",
      "Found 10000 validated image filenames.\n",
      "313/313 [==============================] - 135s 431ms/step\n",
      "Found 10000 validated image filenames.\n",
      "313/313 [==============================] - 136s 434ms/step\n",
      "Found 10000 validated image filenames.\n",
      "313/313 [==============================] - 136s 433ms/step\n",
      "Found 10000 validated image filenames.\n",
      "313/313 [==============================] - 133s 426ms/step\n",
      "Found 10000 validated image filenames.\n",
      "313/313 [==============================] - 139s 443ms/step\n",
      "Found 10000 validated image filenames.\n",
      "313/313 [==============================] - 139s 445ms/step\n",
      "Found 10000 validated image filenames.\n",
      "313/313 [==============================] - 139s 443ms/step\n",
      "Found 10000 validated image filenames.\n",
      "313/313 [==============================] - 135s 433ms/step\n",
      "Found 10000 validated image filenames.\n",
      "313/313 [==============================] - 137s 438ms/step\n",
      "Found 10000 validated image filenames.\n",
      "313/313 [==============================] - 135s 430ms/step\n",
      "Found 8292 validated image filenames.\n",
      "260/260 [==============================] - 112s 430ms/step\n"
     ]
    }
   ],
   "source": [
    "\n",
    "categories = []\n",
    "for i in range(1,len(test_df)):\n",
    "    if i % 10000 == 0:\n",
    "        test_datagen = ImageDataGenerator(featurewise_center=False,\n",
    "                                  featurewise_std_normalization=False)\n",
    "        generator = test_datagen.flow_from_dataframe(\n",
    "            dataframe = test_df.iloc[i-10000:i], \n",
    "            directory = '../input/herbarium-2020-fgvc7/nybg2020/test/',\n",
    "            x_col = 'file_name',\n",
    "            target_size=(120, 120),\n",
    "            batch_size=batch_size,\n",
    "            class_mode=None,  # only data, no labels\n",
    "            shuffle=False)\n",
    "\n",
    "        family, genus, category = model.predict_generator(generator, verbose=1,max_queue_size=10)\n",
    "        categories.append(np.argmax(category, axis=1))\n",
    "        last = i # 最後のindexを保存\n",
    "        del test_datagen, generator, family,genus\n",
    "    elif i == (len(test_df)-1):\n",
    "        test_datagen = ImageDataGenerator(featurewise_center=False,\n",
    "                                  featurewise_std_normalization=False)        \n",
    "        generator = test_datagen.flow_from_dataframe(\n",
    "            dataframe = test_df.iloc[last:i+1], \n",
    "            directory = '../input/herbarium-2020-fgvc7/nybg2020/test/',\n",
    "            x_col = 'file_name',\n",
    "            target_size=(120, 120),\n",
    "            batch_size=batch_size,\n",
    "            class_mode=None,  # only data, no labels\n",
    "            shuffle=False)\n",
    "\n",
    "        family, genus, category = model.predict_generator(generator, verbose=1,max_queue_size=10)\n",
    "        categories.append(np.argmax(category, axis=1))\n",
    "        del test_datagen, generator,family,genus\n",
    "#categories = np.concatenate(categories,axis=0)"
   ]
  },
  {
   "cell_type": "markdown",
   "metadata": {},
   "source": [
    "# Submission\n",
    "\n",
    "Next, we'll save the predicted values under `predictions` into the specified format for submissions. Remember that our `predictions` is a `list` of 3-outputs, namely: `family`, `genus`, `category_id` in that order."
   ]
  },
  {
   "cell_type": "code",
   "execution_count": 32,
   "metadata": {
    "execution": {
     "iopub.execute_input": "2021-10-21T06:38:12.246245Z",
     "iopub.status.busy": "2021-10-21T06:38:12.245874Z",
     "iopub.status.idle": "2021-10-21T06:38:12.252784Z",
     "shell.execute_reply": "2021-10-21T06:38:12.251605Z",
     "shell.execute_reply.started": "2021-10-21T06:38:12.246194Z"
    }
   },
   "outputs": [
    {
     "data": {
      "text/plain": [
       "array([0, 0, 0, ..., 0, 0, 0])"
      ]
     },
     "execution_count": 32,
     "metadata": {},
     "output_type": "execute_result"
    }
   ],
   "source": [
    "np.concatenate(categories[0:2])"
   ]
  },
  {
   "cell_type": "code",
   "execution_count": 33,
   "metadata": {
    "execution": {
     "iopub.execute_input": "2021-10-21T06:38:23.689801Z",
     "iopub.status.busy": "2021-10-21T06:38:23.689394Z",
     "iopub.status.idle": "2021-10-21T06:38:24.534281Z",
     "shell.execute_reply": "2021-10-21T06:38:24.533476Z",
     "shell.execute_reply.started": "2021-10-21T06:38:23.689748Z"
    }
   },
   "outputs": [
    {
     "data": {
      "text/html": [
       "<div>\n",
       "<style scoped>\n",
       "    .dataframe tbody tr th:only-of-type {\n",
       "        vertical-align: middle;\n",
       "    }\n",
       "\n",
       "    .dataframe tbody tr th {\n",
       "        vertical-align: top;\n",
       "    }\n",
       "\n",
       "    .dataframe thead th {\n",
       "        text-align: right;\n",
       "    }\n",
       "</style>\n",
       "<table border=\"1\" class=\"dataframe\">\n",
       "  <thead>\n",
       "    <tr style=\"text-align: right;\">\n",
       "      <th></th>\n",
       "      <th>Id</th>\n",
       "      <th>Predicted</th>\n",
       "    </tr>\n",
       "  </thead>\n",
       "  <tbody>\n",
       "    <tr>\n",
       "      <th>0</th>\n",
       "      <td>104891</td>\n",
       "      <td>0</td>\n",
       "    </tr>\n",
       "    <tr>\n",
       "      <th>1</th>\n",
       "      <td>18029</td>\n",
       "      <td>0</td>\n",
       "    </tr>\n",
       "    <tr>\n",
       "      <th>2</th>\n",
       "      <td>35151</td>\n",
       "      <td>0</td>\n",
       "    </tr>\n",
       "    <tr>\n",
       "      <th>3</th>\n",
       "      <td>124144</td>\n",
       "      <td>0</td>\n",
       "    </tr>\n",
       "    <tr>\n",
       "      <th>4</th>\n",
       "      <td>24649</td>\n",
       "      <td>0</td>\n",
       "    </tr>\n",
       "    <tr>\n",
       "      <th>...</th>\n",
       "      <td>...</td>\n",
       "      <td>...</td>\n",
       "    </tr>\n",
       "    <tr>\n",
       "      <th>138287</th>\n",
       "      <td>32738</td>\n",
       "      <td>0</td>\n",
       "    </tr>\n",
       "    <tr>\n",
       "      <th>138288</th>\n",
       "      <td>16804</td>\n",
       "      <td>0</td>\n",
       "    </tr>\n",
       "    <tr>\n",
       "      <th>138289</th>\n",
       "      <td>113662</td>\n",
       "      <td>0</td>\n",
       "    </tr>\n",
       "    <tr>\n",
       "      <th>138290</th>\n",
       "      <td>86100</td>\n",
       "      <td>0</td>\n",
       "    </tr>\n",
       "    <tr>\n",
       "      <th>138291</th>\n",
       "      <td>28731</td>\n",
       "      <td>0</td>\n",
       "    </tr>\n",
       "  </tbody>\n",
       "</table>\n",
       "<p>138292 rows × 2 columns</p>\n",
       "</div>"
      ],
      "text/plain": [
       "            Id  Predicted\n",
       "0       104891          0\n",
       "1        18029          0\n",
       "2        35151          0\n",
       "3       124144          0\n",
       "4        24649          0\n",
       "...        ...        ...\n",
       "138287   32738          0\n",
       "138288   16804          0\n",
       "138289  113662          0\n",
       "138290   86100          0\n",
       "138291   28731          0\n",
       "\n",
       "[138292 rows x 2 columns]"
      ]
     },
     "metadata": {},
     "output_type": "display_data"
    }
   ],
   "source": [
    "sub = pd.DataFrame()\n",
    "sub['Id'] = test_df.image_id\n",
    "sub['Id'] = sub['Id'].astype('int32')\n",
    "sub['Predicted'] = np.concatenate(categories)\n",
    "sub['Predicted'] = sub['Predicted'].astype('int32')\n",
    "display(sub)\n",
    "sub.to_csv('../working/submission.csv', index=False)"
   ]
  },
  {
   "cell_type": "markdown",
   "metadata": {},
   "source": [
    "# Finish\n",
    "\n",
    "There you have it! A working model for predicting the `Category` of the plants. I hope that this kernel helped you on your journey in unraveling the mysteries of this dataset! Please upvote before forking___________3-(^_^ )"
   ]
  },
  {
   "cell_type": "code",
   "execution_count": 34,
   "metadata": {
    "execution": {
     "iopub.status.busy": "2021-10-21T00:42:04.430395Z",
     "iopub.status.idle": "2021-10-21T00:42:04.431227Z"
    }
   },
   "outputs": [],
   "source": [
    "# end_time = time.time()\n",
    "# total = end_time - start_time\n",
    "# h = total//3600\n",
    "# m = (total%3600)//60\n",
    "# s = total%60\n",
    "# print(\"Total time spent: %i hours, %i minutes, and %i seconds\" %(h, m, s))"
   ]
  },
  {
   "cell_type": "code",
   "execution_count": 35,
   "metadata": {
    "execution": {
     "iopub.status.busy": "2021-10-21T00:42:04.432426Z",
     "iopub.status.idle": "2021-10-21T00:42:04.433222Z"
    }
   },
   "outputs": [],
   "source": [
    "# in_out_size = (120*120) + 3 #We will resize the image to 120*120 and we have 3 outputs\n",
    "# def xavier(shape, dtype=None):\n",
    "#     return np.random.rand(*shape)*np.sqrt(1/in_out_size)\n",
    "\n",
    "# def fg_model(shape, lr=0.001):\n",
    "#     '''Family-Genus model receives an image and outputs two integers indicating both the family and genus index.'''\n",
    "#     i = Input(shape)\n",
    "    \n",
    "#     x = Conv2D(3, (3, 3), activation='relu', padding='same', kernel_initializer=xavier)(i)\n",
    "#     x = Conv2D(3, (5, 5), activation='relu', padding='same', kernel_initializer=xavier)(x)\n",
    "#     x = MaxPool2D(pool_size=(3, 3), strides=(3,3))(x)\n",
    "#     x = BatchNormalization()(x)\n",
    "#     x = Dropout(0.5)(x)\n",
    "#     x = Conv2D(16, (5, 5), activation='relu', padding='same', kernel_initializer=xavier)(x)\n",
    "#     #x = Conv2D(16, (5, 5), activation='relu', padding='same', kernel_initializer=xavier)(x)\n",
    "#     x = MaxPool2D(pool_size=(5, 5), strides=(5,5))(x)\n",
    "#     x = BatchNormalization()(x)\n",
    "#     x = Dropout(0.5)(x)\n",
    "#     x = Flatten()(x)\n",
    "    \n",
    "#     o1 = Dense(310, activation='softmax', name='family', kernel_initializer=xavier)(x)\n",
    "    \n",
    "#     o2 = concatenate([o1, x])\n",
    "#     o2 = Dense(3678, activation='softmax', name='genus', kernel_initializer=xavier)(o2)\n",
    "    \n",
    "#     o3 = concatenate([o1, o2, x])\n",
    "#     o3 = Dense(32094, activation='softmax', name='category_id', kernel_initializer=xavier)(o3)\n",
    "    \n",
    "#     x = Model(inputs=i, outputs=[o1, o2, o3])\n",
    "    \n",
    "#     opt = Adam(lr=lr, amsgrad=True)\n",
    "#     x.compile(optimizer=opt, loss=['sparse_categorical_crossentropy', \n",
    "#                                    'sparse_categorical_crossentropy', \n",
    "#                                    'sparse_categorical_crossentropy'],\n",
    "#                  metrics=['accuracy'])\n",
    "#     return x\n",
    "\n",
    "# model = fg_model((120, 120, 3))\n",
    "# model.summary()\n",
    "# plot_model(model, to_file='full_model_plot.png', show_shapes=True, show_layer_names=True)"
   ]
  }
 ],
 "metadata": {
  "kernelspec": {
   "display_name": "Python 3",
   "language": "python",
   "name": "python3"
  },
  "language_info": {
   "codemirror_mode": {
    "name": "ipython",
    "version": 3
   },
   "file_extension": ".py",
   "mimetype": "text/x-python",
   "name": "python",
   "nbconvert_exporter": "python",
   "pygments_lexer": "ipython3",
   "version": "3.6.6"
  }
 },
 "nbformat": 4,
 "nbformat_minor": 4
}
